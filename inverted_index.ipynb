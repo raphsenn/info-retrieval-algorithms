{
 "cells": [
  {
   "cell_type": "code",
   "execution_count": 5,
   "metadata": {},
   "outputs": [
    {
     "ename": "ImportError",
     "evalue": "cannot import name 'get_words' from 'utils' (/Users/klicki/fun/info-retrieval-notebooks/utils.py)",
     "output_type": "error",
     "traceback": [
      "\u001b[0;31m---------------------------------------------------------------------------\u001b[0m",
      "\u001b[0;31mImportError\u001b[0m                               Traceback (most recent call last)",
      "Cell \u001b[0;32mIn[5], line 1\u001b[0m\n\u001b[0;32m----> 1\u001b[0m \u001b[38;5;28;01mfrom\u001b[39;00m \u001b[38;5;21;01mutils\u001b[39;00m \u001b[38;5;28;01mimport\u001b[39;00m get_words\n\u001b[1;32m      3\u001b[0m \u001b[38;5;28;01mclass\u001b[39;00m \u001b[38;5;21;01mInvertedIndex\u001b[39;00m:\n\u001b[1;32m      4\u001b[0m     \u001b[38;5;28;01mdef\u001b[39;00m \u001b[38;5;21m__init__\u001b[39m(\u001b[38;5;28mself\u001b[39m) \u001b[38;5;241m-\u001b[39m\u001b[38;5;241m>\u001b[39m \u001b[38;5;28;01mNone\u001b[39;00m:\n\u001b[1;32m      5\u001b[0m         \u001b[38;5;66;03m# Maps unique words to document_id and tf score.\u001b[39;00m\n\u001b[1;32m      6\u001b[0m         \u001b[38;5;66;03m# unique_words -> (doc_id, tf_score).\u001b[39;00m\n",
      "\u001b[0;31mImportError\u001b[0m: cannot import name 'get_words' from 'utils' (/Users/klicki/fun/info-retrieval-notebooks/utils.py)"
     ]
    }
   ],
   "source": [
    "from utils import get_words\n",
    "\n",
    "class InvertedIndex:\n",
    "    def __init__(self) -> None:\n",
    "        # Maps unique words to document_id and tf score.\n",
    "        # unique_words -> (doc_id, tf_score).\n",
    "        self.inverted_lists_: dict[str, list[tuple[int, int]]] = {}\n",
    "\n",
    "        # Store document_ids.\n",
    "        self.doc_ids_: list[int] = []\n",
    "\n",
    "    def build_from_file(self, file_name) -> None:\n",
    "        # Document id of current document.\n",
    "        doc_id: int = 1\n",
    "\n",
    "        # Interprete each line as a document.\n",
    "        with open(file_name) as documents:\n",
    "            for doc in documents:\n",
    "                for word in get_words(doc):\n",
    "                    if word not in self.inverted_lists_:\n",
    "                        self.inverted_lists_[word] = [(doc_id, 1)]\n",
    "                    else:\n",
    "                        if self.inverted_lists_[word][-1][0] == doc_id:\n",
    "                            # Old tf score.\n",
    "                            old_score = self.inverted_lists_[word][-1][1]\n",
    "                            # Update entry with new score.\n",
    "                            self.inverted_lists_[word][-1] = (doc_id, old_score + 1)\n",
    "                        else:\n",
    "                            self.inverted_lists_[word].append((doc_id, 1))\n",
    "                doc_id += 1"
   ]
  }
 ],
 "metadata": {
  "kernelspec": {
   "display_name": "Python 3",
   "language": "python",
   "name": "python3"
  },
  "language_info": {
   "codemirror_mode": {
    "name": "ipython",
    "version": 3
   },
   "file_extension": ".py",
   "mimetype": "text/x-python",
   "name": "python",
   "nbconvert_exporter": "python",
   "pygments_lexer": "ipython3",
   "version": "3.11.8"
  }
 },
 "nbformat": 4,
 "nbformat_minor": 2
}
