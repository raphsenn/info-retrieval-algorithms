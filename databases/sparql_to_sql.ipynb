{
 "cells": [
  {
   "cell_type": "code",
   "execution_count": 1,
   "metadata": {},
   "outputs": [],
   "source": [
    "import sqlite3\n",
    "\n",
    "\n",
    "def parse_sparql_query(sparql: str):\n",
    "    \"\"\"\n",
    "    SPARQL query syntax:\n",
    "    SELECT ?x ?y WHERE {\n",
    "    ?x pred_1 some_obj .\n",
    "    ?y pred_2 ?z\n",
    "    }\n",
    "    \"\"\"\n",
    "    # format the SPARQL query into a single line for parsing\n",
    "    sparql = \" \".join(line.strip() for line in sparql.splitlines())\n",
    "\n",
    "    # transform all letters to lower cases.\n",
    "    sparqll = sparql.lower()\n",
    "\n",
    "    # find all variables in the SPARQL between the SELECT and WHERE clause.\n",
    "    select_start = sparqll.find(\"select \") + 7\n",
    "    select_end = sparqll.find(\" where\", select_start)\n",
    "    variables = sparql[select_start:select_end].split()\n",
    "\n",
    "    # find all triples between \"WHERE {\" and \"}\"\n",
    "    where_start = sparqll.find(\"{\", select_end) + 1\n",
    "    where_end = sparqll.rfind(\"}\", where_start)\n",
    "    where_text = sparql[where_start:where_end]\n",
    "    triple_texts = where_text.split(\".\")\n",
    "    triples = []\n",
    "    for triple_text in triple_texts:\n",
    "        subj, pred, obj = triple_text.strip().split(\" \", 2)\n",
    "        triples.append((subj, pred, obj))\n",
    "\n",
    "    # find the (optional) ORDER BY clause\n",
    "    order_by_start = sparqll.find(\" order by \", where_end)\n",
    "    if order_by_start > 0:\n",
    "        search = sparqll[order_by_start + 10:]\n",
    "        match = re.search(r\"^(asc|desc)\\((\\?[^\\s]+)\\)\", search)\n",
    "        assert match is not None, \\\n",
    "            f\"could not find order by direction or variable in {search}\"\n",
    "        order_by = (match.group(2).strip(), match.group(1) == \"asc\")\n",
    "        assert order_by[0] in variables, \\\n",
    "            f\"cannot order by, {order_by[0]} not in variables\"\n",
    "        order_by_end = order_by_start + 10 + len(match.group(0))\n",
    "    else:\n",
    "        order_by = None\n",
    "        order_by_end = where_end\n",
    "\n",
    "    # find the (optional) LIMIT clause\n",
    "    limit_start = sparqll.find(\" limit \", order_by_end)\n",
    "    if limit_start > 0:\n",
    "        limit = int(sparql[limit_start + 7:].split()[0])\n",
    "    else:\n",
    "        limit = None\n",
    "\n",
    "    return variables, triples, order_by, limit"
   ]
  },
  {
   "cell_type": "code",
   "execution_count": 2,
   "metadata": {},
   "outputs": [
    {
     "data": {
      "text/plain": [
       "(['?x', '?y'],\n",
       " [('?x', 'pred_1', 'some_obj'), ('?y', 'pred_2', '?z')],\n",
       " None,\n",
       " None)"
      ]
     },
     "execution_count": 2,
     "metadata": {},
     "output_type": "execute_result"
    }
   ],
   "source": [
    "parse_sparql_query('SELECT ?x ?y WHERE { ?x pred_1 some_obj . ?y pred_2 ?z }')"
   ]
  }
 ],
 "metadata": {
  "kernelspec": {
   "display_name": "Python 3",
   "language": "python",
   "name": "python3"
  },
  "language_info": {
   "codemirror_mode": {
    "name": "ipython",
    "version": 3
   },
   "file_extension": ".py",
   "mimetype": "text/x-python",
   "name": "python",
   "nbconvert_exporter": "python",
   "pygments_lexer": "ipython3",
   "version": "3.11.8"
  }
 },
 "nbformat": 4,
 "nbformat_minor": 2
}
