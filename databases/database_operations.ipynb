{
 "cells": [
  {
   "cell_type": "markdown",
   "metadata": {},
   "source": [
    "# Database operations low level"
   ]
  },
  {
   "cell_type": "code",
   "execution_count": 112,
   "metadata": {},
   "outputs": [
    {
     "name": "stdout",
     "output_type": "stream",
     "text": [
      "+------------------------+------+------------+\n",
      "|         title          | year | IMDb-score |\n",
      "+------------------------+------+------------+\n",
      "|    The Dark Knight     | 2008 |    9.0     |\n",
      "|       Fight Club       | 1999 |    8.8     |\n",
      "|         Matrix         | 1999 |    8.7     |\n",
      "|       Inception        | 2010 |    8.8     |\n",
      "|      Interstellar      | 2014 |    8.7     |\n",
      "| Avengers: Infinity War | 2018 |    8.4     |\n",
      "+------------------------+------+------------+\n"
     ]
    }
   ],
   "source": [
    "from prettytable import PrettyTable\n",
    "from typing import Callable\n",
    "\n",
    "movies = PrettyTable()\n",
    "movies.field_names = ['title', 'year', 'IMDb-score']\n",
    "movies.add_row(['The Dark Knight', '2008', '9.0'])\n",
    "movies.add_row(['Fight Club', '1999', '8.8'])\n",
    "movies.add_row(['Matrix', '1999', '8.7'])\n",
    "movies.add_row(['Inception', '2010', '8.8'])\n",
    "movies.add_row(['Interstellar', '2014', '8.7'])\n",
    "movies.add_row(['Avengers: Infinity War', '2018', '8.4'])\n",
    "print(movies)"
   ]
  },
  {
   "cell_type": "code",
   "execution_count": 113,
   "metadata": {},
   "outputs": [
    {
     "name": "stdout",
     "output_type": "stream",
     "text": [
      "+------------+-----------+\n",
      "| first_name | last_name |\n",
      "+------------+-----------+\n",
      "| Christian  |    Bale   |\n",
      "|    Bred    |    Pitt   |\n",
      "|   Meryl    |   Streep  |\n",
      "+------------+-----------+\n"
     ]
    }
   ],
   "source": [
    "actors = PrettyTable()\n",
    "actors.field_names = ['first_name', 'last_name']\n",
    "actors.add_row(['Christian', 'Bale'])\n",
    "actors.add_row(['Bred', 'Pitt'])\n",
    "actors.add_row(['Meryl', 'Streep'])\n",
    "print(actors)"
   ]
  },
  {
   "cell_type": "markdown",
   "metadata": {},
   "source": [
    "## Operation: Project"
   ]
  },
  {
   "cell_type": "code",
   "execution_count": 114,
   "metadata": {},
   "outputs": [],
   "source": [
    "def project(table: PrettyTable, cols: list[int], distinct: bool=False) -> PrettyTable:\n",
    "    table_result = PrettyTable()\n",
    "    table_result.field_names = [table.field_names[col_index] for col_index in cols]\n",
    "    if not distinct:\n",
    "        for row in table.rows:\n",
    "            table_result.add_row([row[col_index] for col_index in cols])\n",
    "        return table_result\n",
    "    for row in table.rows:\n",
    "        row_result = [row[col_index] for col_index in cols]\n",
    "        if row_result not in table_result.rows:\n",
    "            table_result.add_row(row_result)\n",
    "    return table_result"
   ]
  },
  {
   "cell_type": "markdown",
   "metadata": {},
   "source": [
    "\n",
    "``` sql\n",
    "SELECT title, IMDb-score FROM movies;\n",
    "```"
   ]
  },
  {
   "cell_type": "code",
   "execution_count": 115,
   "metadata": {},
   "outputs": [
    {
     "name": "stdout",
     "output_type": "stream",
     "text": [
      "+------------------------+------------+\n",
      "|         title          | IMDb-score |\n",
      "+------------------------+------------+\n",
      "|    The Dark Knight     |    9.0     |\n",
      "|       Fight Club       |    8.8     |\n",
      "|         Matrix         |    8.7     |\n",
      "|       Inception        |    8.8     |\n",
      "|      Interstellar      |    8.7     |\n",
      "| Avengers: Infinity War |    8.4     |\n",
      "+------------------------+------------+\n"
     ]
    }
   ],
   "source": [
    "print(project(movies, [0, 2]))"
   ]
  },
  {
   "cell_type": "markdown",
   "metadata": {},
   "source": [
    "``` sql\n",
    "SELECT title FROM movies;\n",
    "```"
   ]
  },
  {
   "cell_type": "code",
   "execution_count": 116,
   "metadata": {},
   "outputs": [
    {
     "name": "stdout",
     "output_type": "stream",
     "text": [
      "+------------------------+\n",
      "|         title          |\n",
      "+------------------------+\n",
      "|    The Dark Knight     |\n",
      "|       Fight Club       |\n",
      "|         Matrix         |\n",
      "|       Inception        |\n",
      "|      Interstellar      |\n",
      "| Avengers: Infinity War |\n",
      "+------------------------+\n"
     ]
    }
   ],
   "source": [
    "print(project(movies, [0]))"
   ]
  },
  {
   "cell_type": "markdown",
   "metadata": {},
   "source": [
    "## Operation: Select"
   ]
  },
  {
   "cell_type": "code",
   "execution_count": 117,
   "metadata": {},
   "outputs": [],
   "source": [
    "def select(table: PrettyTable, phi: Callable[[list], bool]) -> PrettyTable:\n",
    "    table_result = PrettyTable()\n",
    "    table_result.field_names = table.field_names\n",
    "    for row in table.rows: \n",
    "        if phi(row):\n",
    "            table_result.add_row(row)\n",
    "    return table_result "
   ]
  },
  {
   "cell_type": "markdown",
   "metadata": {},
   "source": [
    "``` sql\n",
    "SELECT * FROM movies\n",
    "WHERE IMDb-score >= 8.8;\n",
    "```"
   ]
  },
  {
   "cell_type": "code",
   "execution_count": 118,
   "metadata": {},
   "outputs": [
    {
     "name": "stdout",
     "output_type": "stream",
     "text": [
      "+-----------------+------+------------+\n",
      "|      title      | year | IMDb-score |\n",
      "+-----------------+------+------------+\n",
      "| The Dark Knight | 2008 |    9.0     |\n",
      "|    Fight Club   | 1999 |    8.8     |\n",
      "|    Inception    | 2010 |    8.8     |\n",
      "+-----------------+------+------------+\n"
     ]
    }
   ],
   "source": [
    "print(select(movies, lambda row: row[2] >= '8.8'))"
   ]
  },
  {
   "cell_type": "markdown",
   "metadata": {},
   "source": [
    "``` sql\n",
    "SELECT * FROM movies\n",
    "WHERE year > 2010;\n",
    "```"
   ]
  },
  {
   "cell_type": "code",
   "execution_count": 119,
   "metadata": {},
   "outputs": [
    {
     "name": "stdout",
     "output_type": "stream",
     "text": [
      "+------------------------+------+------------+\n",
      "|         title          | year | IMDb-score |\n",
      "+------------------------+------+------------+\n",
      "|       Inception        | 2010 |    8.8     |\n",
      "|      Interstellar      | 2014 |    8.7     |\n",
      "| Avengers: Infinity War | 2018 |    8.4     |\n",
      "+------------------------+------+------------+\n"
     ]
    }
   ],
   "source": [
    "print(select(movies, lambda row: row[1] >= '2010'))"
   ]
  },
  {
   "cell_type": "markdown",
   "metadata": {},
   "source": [
    "``` sql\n",
    "SELECT * FROM movies\n",
    "WHERE year > 2010\n",
    "AND IMDb-score >= 8.5;\n",
    "```"
   ]
  },
  {
   "cell_type": "code",
   "execution_count": 120,
   "metadata": {},
   "outputs": [
    {
     "name": "stdout",
     "output_type": "stream",
     "text": [
      "+--------------+------+------------+\n",
      "|    title     | year | IMDb-score |\n",
      "+--------------+------+------------+\n",
      "|  Inception   | 2010 |    8.8     |\n",
      "| Interstellar | 2014 |    8.7     |\n",
      "+--------------+------+------------+\n"
     ]
    }
   ],
   "source": [
    "print(select(movies, lambda row: row[1] >= '2010' and row[2] >= '8.5'))"
   ]
  },
  {
   "cell_type": "markdown",
   "metadata": {},
   "source": [
    "## Operation: Cartesian-product"
   ]
  },
  {
   "cell_type": "code",
   "execution_count": 121,
   "metadata": {},
   "outputs": [],
   "source": [
    "def cartesian_product(table_1: PrettyTable, table_2: PrettyTable) -> PrettyTable:\n",
    "    table_result = PrettyTable()\n",
    "    table_result.field_names = table_1.field_names + table_2.field_names\n",
    "    for row1 in table_1.rows:\n",
    "        for row2 in table_2.rows:\n",
    "            new_row = row1 + row2\n",
    "            table_result.add_row(new_row)\n",
    "    return table_result"
   ]
  },
  {
   "cell_type": "markdown",
   "metadata": {},
   "source": [
    "``` sql\n",
    "SELECT * FROM movies, actors;\n",
    "```"
   ]
  },
  {
   "cell_type": "code",
   "execution_count": 122,
   "metadata": {},
   "outputs": [
    {
     "name": "stdout",
     "output_type": "stream",
     "text": [
      "+------------------------+------+------------+------------+-----------+\n",
      "|         title          | year | IMDb-score | first_name | last_name |\n",
      "+------------------------+------+------------+------------+-----------+\n",
      "|    The Dark Knight     | 2008 |    9.0     | Christian  |    Bale   |\n",
      "|    The Dark Knight     | 2008 |    9.0     |    Bred    |    Pitt   |\n",
      "|    The Dark Knight     | 2008 |    9.0     |   Meryl    |   Streep  |\n",
      "|       Fight Club       | 1999 |    8.8     | Christian  |    Bale   |\n",
      "|       Fight Club       | 1999 |    8.8     |    Bred    |    Pitt   |\n",
      "|       Fight Club       | 1999 |    8.8     |   Meryl    |   Streep  |\n",
      "|         Matrix         | 1999 |    8.7     | Christian  |    Bale   |\n",
      "|         Matrix         | 1999 |    8.7     |    Bred    |    Pitt   |\n",
      "|         Matrix         | 1999 |    8.7     |   Meryl    |   Streep  |\n",
      "|       Inception        | 2010 |    8.8     | Christian  |    Bale   |\n",
      "|       Inception        | 2010 |    8.8     |    Bred    |    Pitt   |\n",
      "|       Inception        | 2010 |    8.8     |   Meryl    |   Streep  |\n",
      "|      Interstellar      | 2014 |    8.7     | Christian  |    Bale   |\n",
      "|      Interstellar      | 2014 |    8.7     |    Bred    |    Pitt   |\n",
      "|      Interstellar      | 2014 |    8.7     |   Meryl    |   Streep  |\n",
      "| Avengers: Infinity War | 2018 |    8.4     | Christian  |    Bale   |\n",
      "| Avengers: Infinity War | 2018 |    8.4     |    Bred    |    Pitt   |\n",
      "| Avengers: Infinity War | 2018 |    8.4     |   Meryl    |   Streep  |\n",
      "+------------------------+------+------------+------------+-----------+\n"
     ]
    }
   ],
   "source": [
    "print(cartesian_product(movies, actors))"
   ]
  },
  {
   "cell_type": "markdown",
   "metadata": {},
   "source": [
    "## Operation: project, select and cartesian-product together"
   ]
  },
  {
   "cell_type": "markdown",
   "metadata": {},
   "source": [
    "``` sql\n",
    "SELECT title, year \n",
    "FROM movies\n",
    "WHERE year >= 2012;\n",
    "```"
   ]
  },
  {
   "cell_type": "code",
   "execution_count": 123,
   "metadata": {},
   "outputs": [
    {
     "name": "stdout",
     "output_type": "stream",
     "text": [
      "+------------------------+------+\n",
      "|         title          | year |\n",
      "+------------------------+------+\n",
      "|      Interstellar      | 2014 |\n",
      "| Avengers: Infinity War | 2018 |\n",
      "+------------------------+------+\n"
     ]
    }
   ],
   "source": [
    "T1 = select(movies, lambda row: row[1] >= '2014')\n",
    "T2 = project(T1, [0, 1])\n",
    "print(T2)"
   ]
  },
  {
   "cell_type": "markdown",
   "metadata": {},
   "source": [
    "``` sql\n",
    "SELECT title, IMDb-score\n",
    "FROM movies\n",
    "WHERE IMDb=score >= 8.3\n",
    "AND IMDb-score < 8.8;\n",
    "```"
   ]
  },
  {
   "cell_type": "code",
   "execution_count": 124,
   "metadata": {},
   "outputs": [
    {
     "name": "stdout",
     "output_type": "stream",
     "text": [
      "+------------------------+------------+\n",
      "|         title          | IMDb-score |\n",
      "+------------------------+------------+\n",
      "|         Matrix         |    8.7     |\n",
      "|      Interstellar      |    8.7     |\n",
      "| Avengers: Infinity War |    8.4     |\n",
      "+------------------------+------------+\n"
     ]
    }
   ],
   "source": [
    "T1 = select(movies, lambda row: row[2] >= '8.3' and row[2] < '8.8')\n",
    "T2 = project(T1, [0, 2])\n",
    "print(T2)"
   ]
  },
  {
   "cell_type": "markdown",
   "metadata": {},
   "source": [
    "### Creating new tables"
   ]
  },
  {
   "cell_type": "code",
   "execution_count": 125,
   "metadata": {},
   "outputs": [
    {
     "name": "stdout",
     "output_type": "stream",
     "text": [
      "+------+----------------+------+-------+\n",
      "| m_id |     title      | year | score |\n",
      "+------+----------------+------+-------+\n",
      "|  1   | The Dark Night | 2008 |  9.0  |\n",
      "|  2   |   Inception    | 2010 |  8.8  |\n",
      "|  3   |   Fight Club   | 1999 |  8.8  |\n",
      "|  4   |    Titanic     | 1997 |  7.9  |\n",
      "+------+----------------+------+-------+\n",
      "+------+-------------------+\n",
      "| p_id |        name       |\n",
      "+------+-------------------+\n",
      "|  1   |   Christian Bale  |\n",
      "|  2   |     Brad Pitt     |\n",
      "|  3   | Leonardo DiCaprio |\n",
      "|  4   |    Kate Winslet   |\n",
      "+------+-------------------+\n",
      "+----------+-----------+\n",
      "| movie_id | person_id |\n",
      "+----------+-----------+\n",
      "|    1     |     1     |\n",
      "|    3     |     2     |\n",
      "|    2     |     3     |\n",
      "|    4     |     3     |\n",
      "|    4     |     4     |\n",
      "+----------+-----------+\n"
     ]
    }
   ],
   "source": [
    "movies = PrettyTable()\n",
    "movies.field_names = ['m_id', 'title', 'year', 'score']\n",
    "movies.add_row(['1', 'The Dark Night', '2008', '9.0'])\n",
    "movies.add_row(['2', 'Inception', '2010', '8.8'])\n",
    "movies.add_row(['3', 'Fight Club', '1999', '8.8'])\n",
    "movies.add_row(['4', 'Titanic', '1997', '7.9'])\n",
    "\n",
    "actors = PrettyTable()\n",
    "actors.field_names = ['p_id', 'name']\n",
    "actors.add_row(['1', 'Christian Bale'])\n",
    "actors.add_row(['2', 'Brad Pitt'])\n",
    "actors.add_row(['3', 'Leonardo DiCaprio'])\n",
    "actors.add_row(['4', 'Kate Winslet'])\n",
    "\n",
    "cast = PrettyTable()\n",
    "cast.field_names = ['movie_id', 'person_id']\n",
    "cast.add_row(['1', '1']) \n",
    "cast.add_row(['3', '2']) \n",
    "cast.add_row(['2', '3']) \n",
    "cast.add_row(['4', '3']) \n",
    "cast.add_row(['4', '4']) \n",
    "\n",
    "director = PrettyTable()\n",
    "director.field_names = ['name', 'movie_title']\n",
    "director.add_row(['Christopher Nolan', 'Interstellar'])\n",
    "director.add_row(['Christopher Nolan', 'The Dark Night'])\n",
    "director.add_row(['James Cameron', 'Titanic'])\n",
    "director.add_row(['James Cameron', 'Avatar'])\n",
    "\n",
    "print(movies)\n",
    "print(actors)\n",
    "print(cast)"
   ]
  },
  {
   "cell_type": "markdown",
   "metadata": {},
   "source": [
    "``` sql\n",
    "SELECT movies.title, persons.name\n",
    "FROM movies, persons, cast\n",
    "WHERE movies.id = cast.movie_id\n",
    "AND persons.id = cast.person_id;\n",
    "```"
   ]
  },
  {
   "cell_type": "code",
   "execution_count": 126,
   "metadata": {},
   "outputs": [
    {
     "name": "stdout",
     "output_type": "stream",
     "text": [
      "+----------------+-------------------+\n",
      "|     title      |        name       |\n",
      "+----------------+-------------------+\n",
      "| The Dark Night |   Christian Bale  |\n",
      "|   Inception    | Leonardo DiCaprio |\n",
      "|   Fight Club   |     Brad Pitt     |\n",
      "|    Titanic     | Leonardo DiCaprio |\n",
      "|    Titanic     |    Kate Winslet   |\n",
      "+----------------+-------------------+\n"
     ]
    }
   ],
   "source": [
    "T1 = cartesian_product(movies, actors)\n",
    "T2 = cartesian_product(T1, cast)\n",
    "T3 = select(T2, lambda row: row[0] == row[6] and row[4] == row[7])\n",
    "T4 = project(T3, [1, 5])\n",
    "print(T4)"
   ]
  },
  {
   "cell_type": "markdown",
   "metadata": {},
   "source": [
    "## Operation: Joins\n",
    "\n",
    "### Single-column equi-join"
   ]
  },
  {
   "cell_type": "code",
   "execution_count": 127,
   "metadata": {},
   "outputs": [],
   "source": [
    "def join(table_1: PrettyTable, table_2: PrettyTable, j1: int, j2: int) -> PrettyTable:\n",
    "    table_result = PrettyTable()\n",
    "    table_result.field_names = table_1.field_names + table_2.field_names\n",
    "    for row1 in table_1.rows:\n",
    "        for row2 in table_2.rows:\n",
    "            if row1[j1] == row2[j2]:\n",
    "                new_row = row1 + row2\n",
    "                table_result.add_row(new_row)\n",
    "    return table_result "
   ]
  },
  {
   "cell_type": "markdown",
   "metadata": {},
   "source": [
    "``` sql\n",
    "SELECT * FROM movies, cast\n",
    "WHERE movies.m_id = cast.movie_id;\n",
    "```"
   ]
  },
  {
   "cell_type": "code",
   "execution_count": 128,
   "metadata": {},
   "outputs": [
    {
     "name": "stdout",
     "output_type": "stream",
     "text": [
      "+------+---------+------+-------+---------------+-------------+\n",
      "| m_id |  title  | year | score |      name     | movie_title |\n",
      "+------+---------+------+-------+---------------+-------------+\n",
      "|  4   | Titanic | 1997 |  7.9  | James Cameron |   Titanic   |\n",
      "+------+---------+------+-------+---------------+-------------+\n"
     ]
    }
   ],
   "source": [
    "print(join(movies, director, 1, 1))"
   ]
  }
 ],
 "metadata": {
  "kernelspec": {
   "display_name": "Python 3",
   "language": "python",
   "name": "python3"
  },
  "language_info": {
   "codemirror_mode": {
    "name": "ipython",
    "version": 3
   },
   "file_extension": ".py",
   "mimetype": "text/x-python",
   "name": "python",
   "nbconvert_exporter": "python",
   "pygments_lexer": "ipython3",
   "version": "3.9.6"
  }
 },
 "nbformat": 4,
 "nbformat_minor": 2
}
