{
 "cells": [
  {
   "cell_type": "code",
   "execution_count": 13,
   "metadata": {},
   "outputs": [
    {
     "name": "stdout",
     "output_type": "stream",
     "text": [
      "+------------------------+------+------------+\n",
      "|         Title          | Year | IMDb-Score |\n",
      "+------------------------+------+------------+\n",
      "|    The Dark Knight     | 2008 |    9.0     |\n",
      "|       Fight Club       | 1999 |    8.8     |\n",
      "|         Matrix         | 1999 |    8.7     |\n",
      "|       Inception        | 2010 |    8.8     |\n",
      "|      Interstellar      | 2014 |    8.7     |\n",
      "| Avengers: Infinity War | 2018 |    8.4     |\n",
      "+------------------------+------+------------+\n"
     ]
    }
   ],
   "source": [
    "from prettytable import PrettyTable\n",
    "\n",
    "movies = PrettyTable()\n",
    "movies.field_names = ['Title', 'Year', 'IMDb-Score']\n",
    "movies.add_row(['The Dark Knight', '2008', '9.0'])\n",
    "movies.add_row(['Fight Club', '1999', '8.8'])\n",
    "movies.add_row(['Matrix', '1999', '8.7'])\n",
    "movies.add_row(['Inception', '2010', '8.8'])\n",
    "movies.add_row(['Interstellar', '2014', '8.7'])\n",
    "movies.add_row(['Avengers: Infinity War', '2018', '8.4'])\n",
    "print(movies)"
   ]
  },
  {
   "cell_type": "markdown",
   "metadata": {},
   "source": [
    "## Operation: Project"
   ]
  },
  {
   "cell_type": "code",
   "execution_count": 14,
   "metadata": {},
   "outputs": [],
   "source": [
    "def project(table: PrettyTable, cols: list[int], distinct: bool=False) -> PrettyTable:\n",
    "    table_result = PrettyTable()\n",
    "    table_result.field_names = [table.field_names[col_index] for col_index in cols]\n",
    "    if not distinct:\n",
    "        for row in table.rows:\n",
    "            table_result.add_row([row[col_index] for col_index in cols])\n",
    "        return table_result\n",
    "    for row in table.rows:\n",
    "        row_result = [row[col_index] for col_index in cols]\n",
    "        if row_result not in table_result.rows:\n",
    "            table_result.add_row(row_result)\n",
    "    return table_result"
   ]
  },
  {
   "cell_type": "markdown",
   "metadata": {},
   "source": [
    "### SQL example:\n",
    "\n",
    "``` sql\n",
    "SELECT Title, IMDb-Score FROM movies;\n",
    "```"
   ]
  },
  {
   "cell_type": "code",
   "execution_count": 15,
   "metadata": {},
   "outputs": [
    {
     "name": "stdout",
     "output_type": "stream",
     "text": [
      "+------------------------+------------+\n",
      "|         Title          | IMDb-Score |\n",
      "+------------------------+------------+\n",
      "|    The Dark Knight     |    9.0     |\n",
      "|       Fight Club       |    8.8     |\n",
      "|         Matrix         |    8.7     |\n",
      "|       Inception        |    8.8     |\n",
      "|      Interstellar      |    8.7     |\n",
      "| Avengers: Infinity War |    8.4     |\n",
      "+------------------------+------------+\n"
     ]
    }
   ],
   "source": [
    "print(project(movies, [0, 2]))"
   ]
  },
  {
   "cell_type": "markdown",
   "metadata": {},
   "source": [
    "``` sql\n",
    "SELECT Title FROM movies;\n",
    "```"
   ]
  },
  {
   "cell_type": "code",
   "execution_count": 16,
   "metadata": {},
   "outputs": [
    {
     "name": "stdout",
     "output_type": "stream",
     "text": [
      "+------------------------+\n",
      "|         Title          |\n",
      "+------------------------+\n",
      "|    The Dark Knight     |\n",
      "|       Fight Club       |\n",
      "|         Matrix         |\n",
      "|       Inception        |\n",
      "|      Interstellar      |\n",
      "| Avengers: Infinity War |\n",
      "+------------------------+\n"
     ]
    }
   ],
   "source": [
    "print(project(movies, [0]))"
   ]
  }
 ],
 "metadata": {
  "kernelspec": {
   "display_name": "Python 3",
   "language": "python",
   "name": "python3"
  },
  "language_info": {
   "codemirror_mode": {
    "name": "ipython",
    "version": 3
   },
   "file_extension": ".py",
   "mimetype": "text/x-python",
   "name": "python",
   "nbconvert_exporter": "python",
   "pygments_lexer": "ipython3",
   "version": "3.11.8"
  }
 },
 "nbformat": 4,
 "nbformat_minor": 2
}
