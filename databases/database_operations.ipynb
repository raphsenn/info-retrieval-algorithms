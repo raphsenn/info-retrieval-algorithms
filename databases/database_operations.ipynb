{
 "cells": [
  {
   "cell_type": "markdown",
   "metadata": {},
   "source": [
    "# Database operations low level"
   ]
  },
  {
   "cell_type": "code",
   "execution_count": 111,
   "metadata": {},
   "outputs": [
    {
     "name": "stdout",
     "output_type": "stream",
     "text": [
      "+------------------------+------+------------+\n",
      "|         title          | year | IMDb-score |\n",
      "+------------------------+------+------------+\n",
      "|    The Dark Knight     | 2008 |    9.0     |\n",
      "|       Fight Club       | 1999 |    8.8     |\n",
      "|         Matrix         | 1999 |    8.7     |\n",
      "|       Inception        | 2010 |    8.8     |\n",
      "|      Interstellar      | 2014 |    8.7     |\n",
      "| Avengers: Infinity War | 2018 |    8.4     |\n",
      "+------------------------+------+------------+\n"
     ]
    }
   ],
   "source": [
    "from prettytable import PrettyTable\n",
    "from typing import Callable\n",
    "\n",
    "movies = PrettyTable()\n",
    "movies.field_names = ['title', 'year', 'IMDb-score']\n",
    "movies.add_row(['The Dark Knight', '2008', '9.0'])\n",
    "movies.add_row(['Fight Club', '1999', '8.8'])\n",
    "movies.add_row(['Matrix', '1999', '8.7'])\n",
    "movies.add_row(['Inception', '2010', '8.8'])\n",
    "movies.add_row(['Interstellar', '2014', '8.7'])\n",
    "movies.add_row(['Avengers: Infinity War', '2018', '8.4'])\n",
    "print(movies)"
   ]
  },
  {
   "cell_type": "code",
   "execution_count": 112,
   "metadata": {},
   "outputs": [
    {
     "name": "stdout",
     "output_type": "stream",
     "text": [
      "+------------+-----------+\n",
      "| first_name | last_name |\n",
      "+------------+-----------+\n",
      "| Christian  |    Bale   |\n",
      "|    Bred    |    Pitt   |\n",
      "|   Meryl    |   Streep  |\n",
      "+------------+-----------+\n"
     ]
    }
   ],
   "source": [
    "actors = PrettyTable()\n",
    "actors.field_names = ['first_name', 'last_name']\n",
    "actors.add_row(['Christian', 'Bale'])\n",
    "actors.add_row(['Bred', 'Pitt'])\n",
    "actors.add_row(['Meryl', 'Streep'])\n",
    "print(actors)"
   ]
  },
  {
   "cell_type": "markdown",
   "metadata": {},
   "source": [
    "## Operation: Project"
   ]
  },
  {
   "cell_type": "code",
   "execution_count": 113,
   "metadata": {},
   "outputs": [],
   "source": [
    "def project(table: PrettyTable, cols: list[int], distinct: bool=False) -> PrettyTable:\n",
    "    table_result = PrettyTable()\n",
    "    table_result.field_names = [table.field_names[col_index] for col_index in cols]\n",
    "    if not distinct:\n",
    "        for row in table.rows:\n",
    "            table_result.add_row([row[col_index] for col_index in cols])\n",
    "        return table_result\n",
    "    for row in table.rows:\n",
    "        row_result = [row[col_index] for col_index in cols]\n",
    "        if row_result not in table_result.rows:\n",
    "            table_result.add_row(row_result)\n",
    "    return table_result"
   ]
  },
  {
   "cell_type": "markdown",
   "metadata": {},
   "source": [
    "\n",
    "``` sql\n",
    "SELECT Title, IMDb-Score FROM movies;\n",
    "```"
   ]
  },
  {
   "cell_type": "code",
   "execution_count": 114,
   "metadata": {},
   "outputs": [
    {
     "name": "stdout",
     "output_type": "stream",
     "text": [
      "+------------------------+------------+\n",
      "|         title          | IMDb-score |\n",
      "+------------------------+------------+\n",
      "|    The Dark Knight     |    9.0     |\n",
      "|       Fight Club       |    8.8     |\n",
      "|         Matrix         |    8.7     |\n",
      "|       Inception        |    8.8     |\n",
      "|      Interstellar      |    8.7     |\n",
      "| Avengers: Infinity War |    8.4     |\n",
      "+------------------------+------------+\n"
     ]
    }
   ],
   "source": [
    "print(project(movies, [0, 2]))"
   ]
  },
  {
   "cell_type": "markdown",
   "metadata": {},
   "source": [
    "``` sql\n",
    "SELECT Title FROM movies;\n",
    "```"
   ]
  },
  {
   "cell_type": "code",
   "execution_count": 115,
   "metadata": {},
   "outputs": [
    {
     "name": "stdout",
     "output_type": "stream",
     "text": [
      "+------------------------+\n",
      "|         title          |\n",
      "+------------------------+\n",
      "|    The Dark Knight     |\n",
      "|       Fight Club       |\n",
      "|         Matrix         |\n",
      "|       Inception        |\n",
      "|      Interstellar      |\n",
      "| Avengers: Infinity War |\n",
      "+------------------------+\n"
     ]
    }
   ],
   "source": [
    "print(project(movies, [0]))"
   ]
  },
  {
   "cell_type": "markdown",
   "metadata": {},
   "source": [
    "## Operation: Select"
   ]
  },
  {
   "cell_type": "code",
   "execution_count": 116,
   "metadata": {},
   "outputs": [],
   "source": [
    "def select(table: PrettyTable, phi: Callable[[list], bool]) -> PrettyTable:\n",
    "    table_result = PrettyTable()\n",
    "    table_result.field_names = table.field_names\n",
    "    for row in table.rows: \n",
    "        if phi(row):\n",
    "            table_result.add_row(row)\n",
    "    return table_result "
   ]
  },
  {
   "cell_type": "markdown",
   "metadata": {},
   "source": [
    "``` sql\n",
    "SELECT * FROM movies\n",
    "WHERE IMDb-Score >= 8.8;\n",
    "```"
   ]
  },
  {
   "cell_type": "code",
   "execution_count": 117,
   "metadata": {},
   "outputs": [
    {
     "name": "stdout",
     "output_type": "stream",
     "text": [
      "+-----------------+------+------------+\n",
      "|      title      | year | IMDb-score |\n",
      "+-----------------+------+------------+\n",
      "| The Dark Knight | 2008 |    9.0     |\n",
      "|    Fight Club   | 1999 |    8.8     |\n",
      "|    Inception    | 2010 |    8.8     |\n",
      "+-----------------+------+------------+\n"
     ]
    }
   ],
   "source": [
    "print(select(movies, lambda row: row[2] >= '8.8'))"
   ]
  },
  {
   "cell_type": "markdown",
   "metadata": {},
   "source": [
    "``` sql\n",
    "SELECT * FROM movies\n",
    "WHERE year > 2010;\n",
    "```"
   ]
  },
  {
   "cell_type": "code",
   "execution_count": 118,
   "metadata": {},
   "outputs": [
    {
     "name": "stdout",
     "output_type": "stream",
     "text": [
      "+------------------------+------+------------+\n",
      "|         title          | year | IMDb-score |\n",
      "+------------------------+------+------------+\n",
      "|       Inception        | 2010 |    8.8     |\n",
      "|      Interstellar      | 2014 |    8.7     |\n",
      "| Avengers: Infinity War | 2018 |    8.4     |\n",
      "+------------------------+------+------------+\n"
     ]
    }
   ],
   "source": [
    "print(select(movies, lambda row: row[1] >= '2010'))"
   ]
  },
  {
   "cell_type": "markdown",
   "metadata": {},
   "source": [
    "``` sql\n",
    "SELECT * FROM movies\n",
    "WHERE year > 2010\n",
    "AND IMDb-Score >= 8.5;\n",
    "```"
   ]
  },
  {
   "cell_type": "code",
   "execution_count": 119,
   "metadata": {},
   "outputs": [
    {
     "name": "stdout",
     "output_type": "stream",
     "text": [
      "+--------------+------+------------+\n",
      "|    title     | year | IMDb-score |\n",
      "+--------------+------+------------+\n",
      "|  Inception   | 2010 |    8.8     |\n",
      "| Interstellar | 2014 |    8.7     |\n",
      "+--------------+------+------------+\n"
     ]
    }
   ],
   "source": [
    "print(select(movies, lambda row: row[1] >= '2010' and row[2] >= '8.5'))"
   ]
  },
  {
   "cell_type": "markdown",
   "metadata": {},
   "source": [
    "## Operation: Cartesian-product"
   ]
  },
  {
   "cell_type": "code",
   "execution_count": 120,
   "metadata": {},
   "outputs": [],
   "source": [
    "def cartesian_product(table_1: PrettyTable, table_2: PrettyTable) -> PrettyTable:\n",
    "    table_result = PrettyTable()\n",
    "    table_result.field_names = table_1.field_names + table_2.field_names\n",
    "    for row1 in table_1.rows:\n",
    "        for row2 in table_2.rows:\n",
    "            new_row = row1 + row2\n",
    "            table_result.add_row(new_row)\n",
    "    return table_result"
   ]
  },
  {
   "cell_type": "markdown",
   "metadata": {},
   "source": [
    "``` sql\n",
    "SELECT * FROM movies, actors;\n",
    "```"
   ]
  },
  {
   "cell_type": "code",
   "execution_count": 121,
   "metadata": {},
   "outputs": [
    {
     "name": "stdout",
     "output_type": "stream",
     "text": [
      "+------------------------+------+------------+------------+-----------+\n",
      "|         title          | year | IMDb-score | first_name | last_name |\n",
      "+------------------------+------+------------+------------+-----------+\n",
      "|    The Dark Knight     | 2008 |    9.0     | Christian  |    Bale   |\n",
      "|    The Dark Knight     | 2008 |    9.0     |    Bred    |    Pitt   |\n",
      "|    The Dark Knight     | 2008 |    9.0     |   Meryl    |   Streep  |\n",
      "|       Fight Club       | 1999 |    8.8     | Christian  |    Bale   |\n",
      "|       Fight Club       | 1999 |    8.8     |    Bred    |    Pitt   |\n",
      "|       Fight Club       | 1999 |    8.8     |   Meryl    |   Streep  |\n",
      "|         Matrix         | 1999 |    8.7     | Christian  |    Bale   |\n",
      "|         Matrix         | 1999 |    8.7     |    Bred    |    Pitt   |\n",
      "|         Matrix         | 1999 |    8.7     |   Meryl    |   Streep  |\n",
      "|       Inception        | 2010 |    8.8     | Christian  |    Bale   |\n",
      "|       Inception        | 2010 |    8.8     |    Bred    |    Pitt   |\n",
      "|       Inception        | 2010 |    8.8     |   Meryl    |   Streep  |\n",
      "|      Interstellar      | 2014 |    8.7     | Christian  |    Bale   |\n",
      "|      Interstellar      | 2014 |    8.7     |    Bred    |    Pitt   |\n",
      "|      Interstellar      | 2014 |    8.7     |   Meryl    |   Streep  |\n",
      "| Avengers: Infinity War | 2018 |    8.4     | Christian  |    Bale   |\n",
      "| Avengers: Infinity War | 2018 |    8.4     |    Bred    |    Pitt   |\n",
      "| Avengers: Infinity War | 2018 |    8.4     |   Meryl    |   Streep  |\n",
      "+------------------------+------+------------+------------+-----------+\n"
     ]
    }
   ],
   "source": [
    "print(cartesian_product(movies, actors))"
   ]
  },
  {
   "cell_type": "markdown",
   "metadata": {},
   "source": [
    "## Operation: project, select and cartesian-product together"
   ]
  },
  {
   "cell_type": "markdown",
   "metadata": {},
   "source": [
    "``` sql\n",
    "SELECT title, year \n",
    "FROM movies\n",
    "WHERE year >= 2012;\n",
    "```"
   ]
  },
  {
   "cell_type": "code",
   "execution_count": 122,
   "metadata": {},
   "outputs": [
    {
     "name": "stdout",
     "output_type": "stream",
     "text": [
      "+------------------------+------+\n",
      "|         title          | year |\n",
      "+------------------------+------+\n",
      "|      Interstellar      | 2014 |\n",
      "| Avengers: Infinity War | 2018 |\n",
      "+------------------------+------+\n"
     ]
    }
   ],
   "source": [
    "T1 = select(movies, lambda row: row[1] >= '2014')\n",
    "T2 = project(T1, [0, 1])\n",
    "print(T2)"
   ]
  },
  {
   "cell_type": "markdown",
   "metadata": {},
   "source": [
    "``` sql\n",
    "SELECT title, IMDb-score\n",
    "FROM movies\n",
    "WHERE IMDb=score >= 8.3\n",
    "AND IMDb-score < 8.8;\n",
    "```"
   ]
  },
  {
   "cell_type": "code",
   "execution_count": null,
   "metadata": {},
   "outputs": [],
   "source": [
    "T1 = select(movies, lambda row: row[2] >= '8.3' and row[2] < '8.8')\n",
    "T2 = project(T1, [0, 2])\n",
    "print(T2)"
   ]
  }
 ],
 "metadata": {
  "kernelspec": {
   "display_name": "Python 3",
   "language": "python",
   "name": "python3"
  },
  "language_info": {
   "codemirror_mode": {
    "name": "ipython",
    "version": 3
   },
   "file_extension": ".py",
   "mimetype": "text/x-python",
   "name": "python",
   "nbconvert_exporter": "python",
   "pygments_lexer": "ipython3",
   "version": "3.11.8"
  }
 },
 "nbformat": 4,
 "nbformat_minor": 2
}
