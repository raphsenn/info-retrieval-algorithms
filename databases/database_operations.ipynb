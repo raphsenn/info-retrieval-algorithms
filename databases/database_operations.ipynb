{
 "cells": [
  {
   "cell_type": "markdown",
   "metadata": {},
   "source": [
    "# Database operations low level"
   ]
  },
  {
   "cell_type": "markdown",
   "metadata": {},
   "source": [
    "## Creating the databases\n",
    "\n",
    "Data source: https://www.imdb.com/\n",
    "\n",
    "### IMDb IDs\n",
    "\n",
    "IMDb uses unique identifiers for each of the entities referenced in IMDb data. For example \"Name IDs\" identify name entities (people) and \"Title IDs\" identify title entities (movies, series, episodes and video games). IMDb identifiers always take the form of two letters, which signify the type of entity being identified, followed by a sequence of at least seven numbers that uniquely identify a specific entity of that type. For example:\n",
    "\n",
    "\n",
    "* tt0050083 is the unique identifier for the movie \"12 Angry Men (1957)\", where tt signifies that it's a title entity and 0050083 uniquely indicates \"12 Angry Men (1957)\".\n",
    "    \n",
    "* nm0000020 is the unique identifier for the actor \"Henry Fonda\", where nm signifies that it's a name entity and 0000020 uniquely indicates \"Henry Fonda\".\n"
   ]
  },
  {
   "cell_type": "code",
   "execution_count": 1,
   "metadata": {},
   "outputs": [
    {
     "name": "stdout",
     "output_type": "stream",
     "text": [
      "+-----------+------------------------+------+------------+\n",
      "|  IMDb-id  |         title          | year | IMDb-score |\n",
      "+-----------+------------------------+------+------------+\n",
      "| tt0468569 |    The Dark Knight     | 2008 |    9.0     |\n",
      "| tt0137523 |       Fight Club       | 1999 |    8.8     |\n",
      "| tt0133093 |         Matrix         | 1999 |    8.7     |\n",
      "| tt1375666 |       Inception        | 2010 |    8.8     |\n",
      "| tt0816692 |      Interstellar      | 2014 |    8.7     |\n",
      "| tt4154756 | Avengers: Infinity War | 2018 |    8.4     |\n",
      "| tt0120338 |        Titanic         | 1997 |    7.9     |\n",
      "| tt0499549 |         Avatar         | 2009 |    7.9     |\n",
      "+-----------+------------------------+------+------------+\n"
     ]
    }
   ],
   "source": [
    "from prettytable import PrettyTable\n",
    "from typing import Callable\n",
    "\n",
    "movies = PrettyTable()\n",
    "movies.field_names = ['IMDb-id', 'title', 'year', 'IMDb-score']\n",
    "movies.add_row(['tt0468569', 'The Dark Knight', '2008', '9.0'])\n",
    "movies.add_row(['tt0137523', 'Fight Club', '1999', '8.8'])\n",
    "movies.add_row(['tt0133093', 'Matrix', '1999', '8.7'])\n",
    "movies.add_row(['tt1375666', 'Inception', '2010', '8.8'])\n",
    "movies.add_row(['tt0816692', 'Interstellar', '2014', '8.7'])\n",
    "movies.add_row(['tt4154756', 'Avengers: Infinity War', '2018', '8.4'])\n",
    "movies.add_row(['tt0120338', 'Titanic', '1997', '7.9'])\n",
    "movies.add_row(['tt0499549', 'Avatar', '2009', '7.9'])\n",
    "print(movies)"
   ]
  },
  {
   "cell_type": "code",
   "execution_count": 2,
   "metadata": {},
   "outputs": [
    {
     "name": "stdout",
     "output_type": "stream",
     "text": [
      "+-----------+-------------------+\n",
      "|     id    |        name       |\n",
      "+-----------+-------------------+\n",
      "| nm0000288 |   Christian Bale  |\n",
      "| nm0000093 |     Brad Pitt     |\n",
      "| nm0000138 | Leonardo DiCaprio |\n",
      "| nm0000701 |    Kate Winslet   |\n",
      "+-----------+-------------------+\n"
     ]
    }
   ],
   "source": [
    "actors = PrettyTable()\n",
    "actors = PrettyTable()\n",
    "actors.field_names = ['id', 'name']\n",
    "actors.add_row(['nm0000288', 'Christian Bale'])\n",
    "actors.add_row(['nm0000093', 'Brad Pitt'])\n",
    "actors.add_row(['nm0000138', 'Leonardo DiCaprio'])\n",
    "actors.add_row(['nm0000701', 'Kate Winslet'])\n",
    "print(actors)"
   ]
  },
  {
   "cell_type": "code",
   "execution_count": 3,
   "metadata": {},
   "outputs": [
    {
     "name": "stdout",
     "output_type": "stream",
     "text": [
      "+-----------+-----------+\n",
      "|  movie_id | person_id |\n",
      "+-----------+-----------+\n",
      "| tt0468569 | nm0000288 |\n",
      "| tt0137523 | nm0000093 |\n",
      "| tt1375666 | nm0000138 |\n",
      "| tt0120338 | nm0000138 |\n",
      "| tt0120338 | nm0000701 |\n",
      "+-----------+-----------+\n"
     ]
    }
   ],
   "source": [
    "cast = PrettyTable()\n",
    "cast.field_names = ['movie_id', 'person_id']\n",
    "cast.add_row(['tt0468569', 'nm0000288']) # Christian Bale in The Dark Knight\n",
    "cast.add_row(['tt0137523', 'nm0000093']) # Brad Pitt in Fight Club\n",
    "cast.add_row(['tt1375666', 'nm0000138']) # Leonardo DiCaprio in Inception\n",
    "cast.add_row(['tt0120338', 'nm0000138']) # Leonardo DiCaprio in Titanic\n",
    "cast.add_row(['tt0120338', 'nm0000701']) # Kate Winslet in Titanic\n",
    "print(cast)"
   ]
  },
  {
   "cell_type": "code",
   "execution_count": 4,
   "metadata": {},
   "outputs": [
    {
     "name": "stdout",
     "output_type": "stream",
     "text": [
      "+-----------+-------------------+-----------+\n",
      "|     id    |        name       |  movie_id |\n",
      "+-----------+-------------------+-----------+\n",
      "| nm0634240 | Christopher Nolan | tt0816692 |\n",
      "| nm0634240 | Christopher Nolan | tt0468569 |\n",
      "| nm0000116 |   James Cameron   | tt0120338 |\n",
      "| nm0000116 |   James Cameron   | tt0499549 |\n",
      "+-----------+-------------------+-----------+\n"
     ]
    }
   ],
   "source": [
    "director = PrettyTable()\n",
    "director.field_names = ['id', 'name', 'movie_id']\n",
    "director.add_row(['nm0634240', 'Christopher Nolan', 'tt0816692']) # Christopher Nolan directed Interstellar\n",
    "director.add_row(['nm0634240', 'Christopher Nolan', 'tt0468569']) # Chritopher Nolan directed The Dark Knight\n",
    "director.add_row(['nm0000116', 'James Cameron', 'tt0120338']) # James Cameron directed Titanic\n",
    "director.add_row(['nm0000116', 'James Cameron', 'tt0499549']) # James Cameron directed Avatar\n",
    "print(director)"
   ]
  },
  {
   "cell_type": "markdown",
   "metadata": {},
   "source": [
    "## Operation: Project"
   ]
  },
  {
   "cell_type": "code",
   "execution_count": 5,
   "metadata": {},
   "outputs": [],
   "source": [
    "def project(table: PrettyTable, cols: list[int], distinct: bool=False) -> PrettyTable:\n",
    "    table_result = PrettyTable()\n",
    "    table_result.field_names = [table.field_names[col_index] for col_index in cols]\n",
    "    if not distinct:\n",
    "        for row in table.rows:\n",
    "            table_result.add_row([row[col_index] for col_index in cols])\n",
    "        return table_result\n",
    "    for row in table.rows:\n",
    "        row_result = [row[col_index] for col_index in cols]\n",
    "        if row_result not in table_result.rows:\n",
    "            table_result.add_row(row_result)\n",
    "    return table_result"
   ]
  },
  {
   "cell_type": "markdown",
   "metadata": {},
   "source": [
    "\n",
    "``` sql\n",
    "SELECT title, IMDb-score FROM movies;\n",
    "```"
   ]
  },
  {
   "cell_type": "code",
   "execution_count": 6,
   "metadata": {},
   "outputs": [
    {
     "name": "stdout",
     "output_type": "stream",
     "text": [
      "+------------------------+------------+\n",
      "|         title          | IMDb-score |\n",
      "+------------------------+------------+\n",
      "|    The Dark Knight     |    9.0     |\n",
      "|       Fight Club       |    8.8     |\n",
      "|         Matrix         |    8.7     |\n",
      "|       Inception        |    8.8     |\n",
      "|      Interstellar      |    8.7     |\n",
      "| Avengers: Infinity War |    8.4     |\n",
      "|        Titanic         |    7.9     |\n",
      "|         Avatar         |    7.9     |\n",
      "+------------------------+------------+\n"
     ]
    }
   ],
   "source": [
    "print(project(movies, [1, 3]))"
   ]
  },
  {
   "cell_type": "markdown",
   "metadata": {},
   "source": [
    "``` sql\n",
    "SELECT title FROM movies;\n",
    "```"
   ]
  },
  {
   "cell_type": "code",
   "execution_count": 7,
   "metadata": {},
   "outputs": [
    {
     "name": "stdout",
     "output_type": "stream",
     "text": [
      "+------------------------+\n",
      "|         title          |\n",
      "+------------------------+\n",
      "|    The Dark Knight     |\n",
      "|       Fight Club       |\n",
      "|         Matrix         |\n",
      "|       Inception        |\n",
      "|      Interstellar      |\n",
      "| Avengers: Infinity War |\n",
      "|        Titanic         |\n",
      "|         Avatar         |\n",
      "+------------------------+\n"
     ]
    }
   ],
   "source": [
    "print(project(movies, [1]))"
   ]
  },
  {
   "cell_type": "markdown",
   "metadata": {},
   "source": [
    "## Operation: Select"
   ]
  },
  {
   "cell_type": "code",
   "execution_count": 8,
   "metadata": {},
   "outputs": [],
   "source": [
    "def select(table: PrettyTable, phi: Callable[[list], bool]) -> PrettyTable:\n",
    "    table_result = PrettyTable()\n",
    "    table_result.field_names = table.field_names\n",
    "    for row in table.rows: \n",
    "        if phi(row):\n",
    "            table_result.add_row(row)\n",
    "    return table_result "
   ]
  },
  {
   "cell_type": "markdown",
   "metadata": {},
   "source": [
    "```sql\n",
    "SELECT * FROM movies\n",
    "WHERE IMDb-score >= 8.8;\n",
    "```"
   ]
  },
  {
   "cell_type": "code",
   "execution_count": 9,
   "metadata": {},
   "outputs": [
    {
     "name": "stdout",
     "output_type": "stream",
     "text": [
      "+-----------+-----------------+------+------------+\n",
      "|  IMDb-id  |      title      | year | IMDb-score |\n",
      "+-----------+-----------------+------+------------+\n",
      "| tt0468569 | The Dark Knight | 2008 |    9.0     |\n",
      "| tt0137523 |    Fight Club   | 1999 |    8.8     |\n",
      "| tt1375666 |    Inception    | 2010 |    8.8     |\n",
      "+-----------+-----------------+------+------------+\n"
     ]
    }
   ],
   "source": [
    "print(select(movies, lambda row: row[3] >= '8.8'))"
   ]
  },
  {
   "cell_type": "markdown",
   "metadata": {},
   "source": [
    "``` sql\n",
    "SELECT * FROM movies\n",
    "WHERE year > 2010;\n",
    "```"
   ]
  },
  {
   "cell_type": "code",
   "execution_count": 10,
   "metadata": {},
   "outputs": [
    {
     "name": "stdout",
     "output_type": "stream",
     "text": [
      "+-----------+------------------------+------+------------+\n",
      "|  IMDb-id  |         title          | year | IMDb-score |\n",
      "+-----------+------------------------+------+------------+\n",
      "| tt1375666 |       Inception        | 2010 |    8.8     |\n",
      "| tt0816692 |      Interstellar      | 2014 |    8.7     |\n",
      "| tt4154756 | Avengers: Infinity War | 2018 |    8.4     |\n",
      "+-----------+------------------------+------+------------+\n"
     ]
    }
   ],
   "source": [
    "print(select(movies, lambda row: row[2] >= '2010'))"
   ]
  },
  {
   "cell_type": "markdown",
   "metadata": {},
   "source": [
    "``` sql\n",
    "SELECT * FROM movies\n",
    "WHERE year > 2010\n",
    "AND IMDb-score >= 8.5;\n",
    "```"
   ]
  },
  {
   "cell_type": "code",
   "execution_count": 11,
   "metadata": {},
   "outputs": [
    {
     "name": "stdout",
     "output_type": "stream",
     "text": [
      "+-----------+--------------+------+------------+\n",
      "|  IMDb-id  |    title     | year | IMDb-score |\n",
      "+-----------+--------------+------+------------+\n",
      "| tt1375666 |  Inception   | 2010 |    8.8     |\n",
      "| tt0816692 | Interstellar | 2014 |    8.7     |\n",
      "+-----------+--------------+------+------------+\n"
     ]
    }
   ],
   "source": [
    "print(select(movies, lambda row: row[2] >= '2010' and row[3] >= '8.5'))"
   ]
  },
  {
   "cell_type": "markdown",
   "metadata": {},
   "source": [
    "## Operation: Cartesian-product"
   ]
  },
  {
   "cell_type": "code",
   "execution_count": 12,
   "metadata": {},
   "outputs": [],
   "source": [
    "def cartesian_product(table_1: PrettyTable, table_2: PrettyTable) -> PrettyTable:\n",
    "    table_result = PrettyTable()\n",
    "    table_result.field_names = table_1.field_names + table_2.field_names\n",
    "    for row1 in table_1.rows:\n",
    "        for row2 in table_2.rows:\n",
    "            new_row = row1 + row2\n",
    "            table_result.add_row(new_row)\n",
    "    return table_result"
   ]
  },
  {
   "cell_type": "markdown",
   "metadata": {},
   "source": [
    "``` sql\n",
    "SELECT * FROM movies, actors;\n",
    "```"
   ]
  },
  {
   "cell_type": "code",
   "execution_count": 13,
   "metadata": {},
   "outputs": [
    {
     "name": "stdout",
     "output_type": "stream",
     "text": [
      "+-----------+------------------------+------+------------+-----------+-------------------+\n",
      "|  IMDb-id  |         title          | year | IMDb-score |     id    |        name       |\n",
      "+-----------+------------------------+------+------------+-----------+-------------------+\n",
      "| tt0468569 |    The Dark Knight     | 2008 |    9.0     | nm0000288 |   Christian Bale  |\n",
      "| tt0468569 |    The Dark Knight     | 2008 |    9.0     | nm0000093 |     Brad Pitt     |\n",
      "| tt0468569 |    The Dark Knight     | 2008 |    9.0     | nm0000138 | Leonardo DiCaprio |\n",
      "| tt0468569 |    The Dark Knight     | 2008 |    9.0     | nm0000701 |    Kate Winslet   |\n",
      "| tt0137523 |       Fight Club       | 1999 |    8.8     | nm0000288 |   Christian Bale  |\n",
      "| tt0137523 |       Fight Club       | 1999 |    8.8     | nm0000093 |     Brad Pitt     |\n",
      "| tt0137523 |       Fight Club       | 1999 |    8.8     | nm0000138 | Leonardo DiCaprio |\n",
      "| tt0137523 |       Fight Club       | 1999 |    8.8     | nm0000701 |    Kate Winslet   |\n",
      "| tt0133093 |         Matrix         | 1999 |    8.7     | nm0000288 |   Christian Bale  |\n",
      "| tt0133093 |         Matrix         | 1999 |    8.7     | nm0000093 |     Brad Pitt     |\n",
      "| tt0133093 |         Matrix         | 1999 |    8.7     | nm0000138 | Leonardo DiCaprio |\n",
      "| tt0133093 |         Matrix         | 1999 |    8.7     | nm0000701 |    Kate Winslet   |\n",
      "| tt1375666 |       Inception        | 2010 |    8.8     | nm0000288 |   Christian Bale  |\n",
      "| tt1375666 |       Inception        | 2010 |    8.8     | nm0000093 |     Brad Pitt     |\n",
      "| tt1375666 |       Inception        | 2010 |    8.8     | nm0000138 | Leonardo DiCaprio |\n",
      "| tt1375666 |       Inception        | 2010 |    8.8     | nm0000701 |    Kate Winslet   |\n",
      "| tt0816692 |      Interstellar      | 2014 |    8.7     | nm0000288 |   Christian Bale  |\n",
      "| tt0816692 |      Interstellar      | 2014 |    8.7     | nm0000093 |     Brad Pitt     |\n",
      "| tt0816692 |      Interstellar      | 2014 |    8.7     | nm0000138 | Leonardo DiCaprio |\n",
      "| tt0816692 |      Interstellar      | 2014 |    8.7     | nm0000701 |    Kate Winslet   |\n",
      "| tt4154756 | Avengers: Infinity War | 2018 |    8.4     | nm0000288 |   Christian Bale  |\n",
      "| tt4154756 | Avengers: Infinity War | 2018 |    8.4     | nm0000093 |     Brad Pitt     |\n",
      "| tt4154756 | Avengers: Infinity War | 2018 |    8.4     | nm0000138 | Leonardo DiCaprio |\n",
      "| tt4154756 | Avengers: Infinity War | 2018 |    8.4     | nm0000701 |    Kate Winslet   |\n",
      "| tt0120338 |        Titanic         | 1997 |    7.9     | nm0000288 |   Christian Bale  |\n",
      "| tt0120338 |        Titanic         | 1997 |    7.9     | nm0000093 |     Brad Pitt     |\n",
      "| tt0120338 |        Titanic         | 1997 |    7.9     | nm0000138 | Leonardo DiCaprio |\n",
      "| tt0120338 |        Titanic         | 1997 |    7.9     | nm0000701 |    Kate Winslet   |\n",
      "| tt0499549 |         Avatar         | 2009 |    7.9     | nm0000288 |   Christian Bale  |\n",
      "| tt0499549 |         Avatar         | 2009 |    7.9     | nm0000093 |     Brad Pitt     |\n",
      "| tt0499549 |         Avatar         | 2009 |    7.9     | nm0000138 | Leonardo DiCaprio |\n",
      "| tt0499549 |         Avatar         | 2009 |    7.9     | nm0000701 |    Kate Winslet   |\n",
      "+-----------+------------------------+------+------------+-----------+-------------------+\n"
     ]
    }
   ],
   "source": [
    "print(cartesian_product(movies, actors))"
   ]
  },
  {
   "cell_type": "markdown",
   "metadata": {},
   "source": [
    "## Operation: project, select and cartesian-product together"
   ]
  },
  {
   "cell_type": "markdown",
   "metadata": {},
   "source": [
    "``` sql\n",
    "SELECT title, year \n",
    "FROM movies\n",
    "WHERE year >= 2012;\n",
    "```"
   ]
  },
  {
   "cell_type": "code",
   "execution_count": 14,
   "metadata": {},
   "outputs": [
    {
     "name": "stdout",
     "output_type": "stream",
     "text": [
      "+------------------------+------+\n",
      "|         title          | year |\n",
      "+------------------------+------+\n",
      "|      Interstellar      | 2014 |\n",
      "| Avengers: Infinity War | 2018 |\n",
      "+------------------------+------+\n"
     ]
    }
   ],
   "source": [
    "T1 = select(movies, lambda row: row[2] >= '2014')\n",
    "T2 = project(T1, [1, 2])\n",
    "print(T2)"
   ]
  },
  {
   "cell_type": "markdown",
   "metadata": {},
   "source": [
    "``` sql\n",
    "SELECT title, IMDb-score\n",
    "FROM movies\n",
    "WHERE IMDb-score >= 8.3\n",
    "AND IMDb-score < 8.8;\n",
    "```"
   ]
  },
  {
   "cell_type": "code",
   "execution_count": 15,
   "metadata": {},
   "outputs": [
    {
     "name": "stdout",
     "output_type": "stream",
     "text": [
      "+------------------------+------------+\n",
      "|         title          | IMDb-score |\n",
      "+------------------------+------------+\n",
      "|         Matrix         |    8.7     |\n",
      "|      Interstellar      |    8.7     |\n",
      "| Avengers: Infinity War |    8.4     |\n",
      "+------------------------+------------+\n"
     ]
    }
   ],
   "source": [
    "T1 = select(movies, lambda row: row[3] >= '8.3' and row[3] < '8.8')\n",
    "T2 = project(T1, [1, 3])\n",
    "print(T2)"
   ]
  },
  {
   "cell_type": "markdown",
   "metadata": {},
   "source": [
    "```sql\n",
    "SELECT movies.title, persons.name\n",
    "FROM movies, persons, cast\n",
    "WHERE movies.id = cast.movie_id\n",
    "AND persons.id = cast.person_id;\n",
    "```"
   ]
  },
  {
   "cell_type": "code",
   "execution_count": 16,
   "metadata": {},
   "outputs": [
    {
     "name": "stdout",
     "output_type": "stream",
     "text": [
      "+-----------------+-------------------+\n",
      "|      title      |        name       |\n",
      "+-----------------+-------------------+\n",
      "| The Dark Knight |   Christian Bale  |\n",
      "|    Fight Club   |     Brad Pitt     |\n",
      "|    Inception    | Leonardo DiCaprio |\n",
      "|     Titanic     | Leonardo DiCaprio |\n",
      "|     Titanic     |    Kate Winslet   |\n",
      "+-----------------+-------------------+\n"
     ]
    }
   ],
   "source": [
    "T1 = cartesian_product(movies, actors)\n",
    "T2 = cartesian_product(T1, cast)\n",
    "T3 = select(T2, lambda row: row[0] == row[6] and row[4] == row[7])\n",
    "T4 = project(T3, [1, 5])\n",
    "print(T4)"
   ]
  },
  {
   "cell_type": "markdown",
   "metadata": {},
   "source": [
    "## Operation: Joins\n",
    "\n",
    "### Single-column equi-join"
   ]
  },
  {
   "cell_type": "code",
   "execution_count": 17,
   "metadata": {},
   "outputs": [],
   "source": [
    "def join(table_1: PrettyTable, table_2: PrettyTable, j1: int, j2: int) -> PrettyTable:\n",
    "    table_result = PrettyTable()\n",
    "    table_result.field_names = table_1.field_names + table_2.field_names\n",
    "    for row1 in table_1.rows:\n",
    "        for row2 in table_2.rows:\n",
    "            if row1[j1] == row2[j2]:\n",
    "                new_row = row1 + row2\n",
    "                table_result.add_row(new_row)\n",
    "    return table_result "
   ]
  },
  {
   "cell_type": "markdown",
   "metadata": {},
   "source": [
    "``` sql\n",
    "SELECT * FROM movies, director\n",
    "WHERE movies.IMDb-id = director.movie_id;\n",
    "```"
   ]
  },
  {
   "cell_type": "code",
   "execution_count": 18,
   "metadata": {},
   "outputs": [
    {
     "name": "stdout",
     "output_type": "stream",
     "text": [
      "+-----------+-----------------+------+------------+-----------+-------------------+-----------+\n",
      "|  IMDb-id  |      title      | year | IMDb-score |     id    |        name       |  movie_id |\n",
      "+-----------+-----------------+------+------------+-----------+-------------------+-----------+\n",
      "| tt0468569 | The Dark Knight | 2008 |    9.0     | nm0634240 | Christopher Nolan | tt0468569 |\n",
      "| tt0816692 |   Interstellar  | 2014 |    8.7     | nm0634240 | Christopher Nolan | tt0816692 |\n",
      "| tt0120338 |     Titanic     | 1997 |    7.9     | nm0000116 |   James Cameron   | tt0120338 |\n",
      "| tt0499549 |      Avatar     | 2009 |    7.9     | nm0000116 |   James Cameron   | tt0499549 |\n",
      "+-----------+-----------------+------+------------+-----------+-------------------+-----------+\n"
     ]
    }
   ],
   "source": [
    "print(join(movies, director, 0, 2))"
   ]
  },
  {
   "cell_type": "markdown",
   "metadata": {},
   "source": [
    "### Hash-join"
   ]
  },
  {
   "cell_type": "code",
   "execution_count": 19,
   "metadata": {},
   "outputs": [],
   "source": [
    "def hash_join(table_1: PrettyTable, table_2: PrettyTable, j1: int, j2: int) -> PrettyTable:\n",
    "    table_result = PrettyTable()\n",
    "    table_result.field_names = table_1.field_names + table_2.field_names \n",
    "    X = dict()\n",
    "    for id, row1 in enumerate(table_1.rows):\n",
    "        if row1[j1] not in X:\n",
    "            X[row1[j1]] = []\n",
    "        X[row1[j1]].append(id)\n",
    "    for id, row2 in enumerate(table_2.rows):\n",
    "        if row2[j2] in X:\n",
    "            for index in X[row2[j2]]:\n",
    "                new_row = table_1.rows[index] + table_2.rows[id]\n",
    "            table_result.add_row(new_row)\n",
    "    return table_result"
   ]
  },
  {
   "cell_type": "code",
   "execution_count": 20,
   "metadata": {},
   "outputs": [
    {
     "name": "stdout",
     "output_type": "stream",
     "text": [
      "+-----------+-----------------+------+------------+-----------+-------------------+-----------+\n",
      "|  IMDb-id  |      title      | year | IMDb-score |     id    |        name       |  movie_id |\n",
      "+-----------+-----------------+------+------------+-----------+-------------------+-----------+\n",
      "| tt0816692 |   Interstellar  | 2014 |    8.7     | nm0634240 | Christopher Nolan | tt0816692 |\n",
      "| tt0468569 | The Dark Knight | 2008 |    9.0     | nm0634240 | Christopher Nolan | tt0468569 |\n",
      "| tt0120338 |     Titanic     | 1997 |    7.9     | nm0000116 |   James Cameron   | tt0120338 |\n",
      "| tt0499549 |      Avatar     | 2009 |    7.9     | nm0000116 |   James Cameron   | tt0499549 |\n",
      "+-----------+-----------------+------+------------+-----------+-------------------+-----------+\n"
     ]
    }
   ],
   "source": [
    "print(hash_join(movies, director, 0, 2))"
   ]
  },
  {
   "cell_type": "markdown",
   "metadata": {},
   "source": [
    "### Merge-join"
   ]
  },
  {
   "cell_type": "code",
   "execution_count": 21,
   "metadata": {},
   "outputs": [],
   "source": [
    "def merge_join(table_1: PrettyTable, table_2: PrettyTable, j1: int, j2: int) -> PrettyTable:\n",
    "    table_result = PrettyTable()\n",
    "    table_result.field_names = table_1.field_names + table_2.field_names \n",
    "    X = sorted([(row[j1], id) for id, row in enumerate(table_1.rows)], key=lambda x: x[0])\n",
    "    Y = sorted([(row[j2], id) for id, row in enumerate(table_2.rows)], key=lambda x: x[0])\n",
    "    i, j = len(X), len(Y)\n",
    "    while i < len(X) and j < len(Y):\n",
    "        if X[i][0] == Y[j][0]:\n",
    "            new_row = table_1.rows[X[i][1]] + table_2.rows[Y[j][1]]\n",
    "            table_result.add_row(new_row)\n",
    "            i += 1\n",
    "            j += 1\n",
    "        elif X[i][0] < Y[j][0]:\n",
    "            i += 1\n",
    "        elif X[i][0] > Y[j][0]:\n",
    "            j += 1\n",
    "    return table_result"
   ]
  },
  {
   "cell_type": "code",
   "execution_count": 22,
   "metadata": {},
   "outputs": [
    {
     "name": "stdout",
     "output_type": "stream",
     "text": [
      "+---------+-------+------+------------+----+------+----------+\n",
      "| IMDb-id | title | year | IMDb-score | id | name | movie_id |\n",
      "+---------+-------+------+------------+----+------+----------+\n",
      "+---------+-------+------+------------+----+------+----------+\n"
     ]
    }
   ],
   "source": [
    "print(merge_join(movies, director, 0, 2))"
   ]
  }
 ],
 "metadata": {
  "kernelspec": {
   "display_name": "Python 3",
   "language": "python",
   "name": "python3"
  },
  "language_info": {
   "codemirror_mode": {
    "name": "ipython",
    "version": 3
   },
   "file_extension": ".py",
   "mimetype": "text/x-python",
   "name": "python",
   "nbconvert_exporter": "python",
   "pygments_lexer": "ipython3",
   "version": "3.11.8"
  }
 },
 "nbformat": 4,
 "nbformat_minor": 2
}
