{
 "cells": [
  {
   "cell_type": "markdown",
   "metadata": {},
   "source": [
    "# Fuzzy Search, Prefix Edit Dist, Q-Gram Index"
   ]
  },
  {
   "cell_type": "markdown",
   "metadata": {},
   "source": [
    "## About the data"
   ]
  },
  {
   "cell_type": "code",
   "execution_count": 318,
   "metadata": {},
   "outputs": [
    {
     "data": {
      "text/html": [
       "<div>\n",
       "<style scoped>\n",
       "    .dataframe tbody tr th:only-of-type {\n",
       "        vertical-align: middle;\n",
       "    }\n",
       "\n",
       "    .dataframe tbody tr th {\n",
       "        vertical-align: top;\n",
       "    }\n",
       "\n",
       "    .dataframe thead th {\n",
       "        text-align: right;\n",
       "    }\n",
       "</style>\n",
       "<table border=\"1\" class=\"dataframe\">\n",
       "  <thead>\n",
       "    <tr style=\"text-align: right;\">\n",
       "      <th></th>\n",
       "      <th>title</th>\n",
       "      <th>date_x</th>\n",
       "      <th>score</th>\n",
       "      <th>genre</th>\n",
       "      <th>overview</th>\n",
       "      <th>crew</th>\n",
       "      <th>orig_title</th>\n",
       "      <th>status</th>\n",
       "      <th>orig_lang</th>\n",
       "      <th>budget_x</th>\n",
       "      <th>revenue</th>\n",
       "      <th>country</th>\n",
       "    </tr>\n",
       "  </thead>\n",
       "  <tbody>\n",
       "    <tr>\n",
       "      <th>0</th>\n",
       "      <td>Creed III</td>\n",
       "      <td>03/02/2023</td>\n",
       "      <td>73.0</td>\n",
       "      <td>Drama, Action</td>\n",
       "      <td>After dominating the boxing world, Adonis Cree...</td>\n",
       "      <td>Michael B. Jordan, Adonis Creed, Tessa Thompso...</td>\n",
       "      <td>Creed III</td>\n",
       "      <td>Released</td>\n",
       "      <td>English</td>\n",
       "      <td>75000000.0</td>\n",
       "      <td>2.716167e+08</td>\n",
       "      <td>AU</td>\n",
       "    </tr>\n",
       "    <tr>\n",
       "      <th>1</th>\n",
       "      <td>Avatar: The Way of Water</td>\n",
       "      <td>12/15/2022</td>\n",
       "      <td>78.0</td>\n",
       "      <td>Science Fiction, Adventure, Action</td>\n",
       "      <td>Set more than a decade after the events of the...</td>\n",
       "      <td>Sam Worthington, Jake Sully, Zoe Saldaña, Neyt...</td>\n",
       "      <td>Avatar: The Way of Water</td>\n",
       "      <td>Released</td>\n",
       "      <td>English</td>\n",
       "      <td>460000000.0</td>\n",
       "      <td>2.316795e+09</td>\n",
       "      <td>AU</td>\n",
       "    </tr>\n",
       "    <tr>\n",
       "      <th>2</th>\n",
       "      <td>The Super Mario Bros. Movie</td>\n",
       "      <td>04/05/2023</td>\n",
       "      <td>76.0</td>\n",
       "      <td>Animation, Adventure, Family, Fantasy, Comedy</td>\n",
       "      <td>While working underground to fix a water main,...</td>\n",
       "      <td>Chris Pratt, Mario (voice), Anya Taylor-Joy, P...</td>\n",
       "      <td>The Super Mario Bros. Movie</td>\n",
       "      <td>Released</td>\n",
       "      <td>English</td>\n",
       "      <td>100000000.0</td>\n",
       "      <td>7.244590e+08</td>\n",
       "      <td>AU</td>\n",
       "    </tr>\n",
       "    <tr>\n",
       "      <th>3</th>\n",
       "      <td>Mummies</td>\n",
       "      <td>01/05/2023</td>\n",
       "      <td>70.0</td>\n",
       "      <td>Animation, Comedy, Family, Adventure, Fantasy</td>\n",
       "      <td>Through a series of unfortunate events, three ...</td>\n",
       "      <td>Óscar Barberán, Thut (voice), Ana Esther Albor...</td>\n",
       "      <td>Momias</td>\n",
       "      <td>Released</td>\n",
       "      <td>Spanish, Castilian</td>\n",
       "      <td>12300000.0</td>\n",
       "      <td>3.420000e+07</td>\n",
       "      <td>AU</td>\n",
       "    </tr>\n",
       "    <tr>\n",
       "      <th>4</th>\n",
       "      <td>Supercell</td>\n",
       "      <td>03/17/2023</td>\n",
       "      <td>61.0</td>\n",
       "      <td>Action</td>\n",
       "      <td>Good-hearted teenager William always lived in ...</td>\n",
       "      <td>Skeet Ulrich, Roy Cameron, Anne Heche, Dr Quin...</td>\n",
       "      <td>Supercell</td>\n",
       "      <td>Released</td>\n",
       "      <td>English</td>\n",
       "      <td>77000000.0</td>\n",
       "      <td>3.409420e+08</td>\n",
       "      <td>US</td>\n",
       "    </tr>\n",
       "  </tbody>\n",
       "</table>\n",
       "</div>"
      ],
      "text/plain": [
       "                         title       date_x  score  \\\n",
       "0                    Creed III  03/02/2023    73.0   \n",
       "1     Avatar: The Way of Water  12/15/2022    78.0   \n",
       "2  The Super Mario Bros. Movie  04/05/2023    76.0   \n",
       "3                      Mummies  01/05/2023    70.0   \n",
       "4                    Supercell  03/17/2023    61.0   \n",
       "\n",
       "                                           genre  \\\n",
       "0                                  Drama, Action   \n",
       "1             Science Fiction, Adventure, Action   \n",
       "2  Animation, Adventure, Family, Fantasy, Comedy   \n",
       "3  Animation, Comedy, Family, Adventure, Fantasy   \n",
       "4                                         Action   \n",
       "\n",
       "                                            overview  \\\n",
       "0  After dominating the boxing world, Adonis Cree...   \n",
       "1  Set more than a decade after the events of the...   \n",
       "2  While working underground to fix a water main,...   \n",
       "3  Through a series of unfortunate events, three ...   \n",
       "4  Good-hearted teenager William always lived in ...   \n",
       "\n",
       "                                                crew  \\\n",
       "0  Michael B. Jordan, Adonis Creed, Tessa Thompso...   \n",
       "1  Sam Worthington, Jake Sully, Zoe Saldaña, Neyt...   \n",
       "2  Chris Pratt, Mario (voice), Anya Taylor-Joy, P...   \n",
       "3  Óscar Barberán, Thut (voice), Ana Esther Albor...   \n",
       "4  Skeet Ulrich, Roy Cameron, Anne Heche, Dr Quin...   \n",
       "\n",
       "                    orig_title     status            orig_lang     budget_x  \\\n",
       "0                    Creed III   Released              English   75000000.0   \n",
       "1     Avatar: The Way of Water   Released              English  460000000.0   \n",
       "2  The Super Mario Bros. Movie   Released              English  100000000.0   \n",
       "3                       Momias   Released   Spanish, Castilian   12300000.0   \n",
       "4                    Supercell   Released              English   77000000.0   \n",
       "\n",
       "        revenue country  \n",
       "0  2.716167e+08      AU  \n",
       "1  2.316795e+09      AU  \n",
       "2  7.244590e+08      AU  \n",
       "3  3.420000e+07      AU  \n",
       "4  3.409420e+08      US  "
      ]
     },
     "execution_count": 318,
     "metadata": {},
     "output_type": "execute_result"
    }
   ],
   "source": [
    "import pandas as pd\n",
    "\n",
    "movies = pd.read_csv('movies.csv')\n",
    "movies.head()"
   ]
  },
  {
   "cell_type": "markdown",
   "metadata": {},
   "source": [
    "## Levenshtein distance"
   ]
  },
  {
   "cell_type": "code",
   "execution_count": 319,
   "metadata": {},
   "outputs": [],
   "source": [
    "import numpy as np\n",
    "\n",
    "def levenshtein_dist(x: str, y: str) -> int:\n",
    "    x, y = '$' + x, '$' + y\n",
    "    mat = np.zeros((len(x), len(y)), dtype=int)\n",
    "    for i in range(0, len(x)): mat[i][0] = i\n",
    "    for j in range(0, len(y)): mat[0][j] = j\n",
    "    for i in range(1, len(x)):\n",
    "        for j in range(1, len(y)):\n",
    "            if x[i] != y[j]:\n",
    "                mat[i][j] = min(mat[i-1][j], mat[i-1][j-1], mat[i][j-1]) + 1\n",
    "            else: \n",
    "                mat[i][j] = min(mat[i-1][j], mat[i-1][j-1], mat[i][j-1])\n",
    "    return mat[len(x)-1][len(y)-1]"
   ]
  },
  {
   "cell_type": "code",
   "execution_count": 320,
   "metadata": {},
   "outputs": [
    {
     "name": "stdout",
     "output_type": "stream",
     "text": [
      "levenshtein_dist(hello, hallo) = 1\n",
      "levenshtein_dist(kid, kind) = 1\n",
      "levenshtein_dist(cat, wildcat) = 4\n"
     ]
    }
   ],
   "source": [
    "print(f\"levenshtein_dist(hello, hallo) = {levenshtein_dist('hello', 'hallo')}\")\n",
    "print(f\"levenshtein_dist(kid, kind) = {levenshtein_dist('kid', 'kind')}\")\n",
    "print(f\"levenshtein_dist(cat, wildcat) = {levenshtein_dist('cat', 'wildcat')}\")"
   ]
  },
  {
   "cell_type": "markdown",
   "metadata": {},
   "source": [
    "## Q-gramms\n",
    "\n",
    "Definition: Let x, y be two strings.\n",
    "\n"
   ]
  },
  {
   "cell_type": "code",
   "execution_count": 321,
   "metadata": {},
   "outputs": [],
   "source": [
    "def compute_qgram(x: str, q: int, padding: int = 3) -> list[str]:\n",
    "    # Add padding to x. \n",
    "    x_padded = padding * '$' + x + padding * '$'\n",
    "    qgram = [x_padded[i:i+q] for i in range(0, len(x_padded)) if len(x_padded[i:i+q]) == q] \n",
    "    return qgram"
   ]
  },
  {
   "cell_type": "code",
   "execution_count": 322,
   "metadata": {},
   "outputs": [
    {
     "name": "stdout",
     "output_type": "stream",
     "text": [
      "['fre', 'rei', 'eib', 'ibu', 'bur', 'urg']\n",
      "['$$$', '$$f', '$fr', 'fre', 'rei', 'eib', 'ibu', 'bur', 'urg', 'rg$', 'g$$', '$$$']\n"
     ]
    }
   ],
   "source": [
    "print(compute_qgram('freiburg', q=3, padding=0))\n",
    "print(compute_qgram('freiburg', q=3, padding=3))"
   ]
  },
  {
   "cell_type": "code",
   "execution_count": 323,
   "metadata": {},
   "outputs": [],
   "source": [
    "import pandas as pd\n",
    "import re\n",
    "from collections import Counter, defaultdict\n",
    "\n",
    "class QGramIndex:\n",
    "    def __init__(self, q: int = 3, padding: int = 2) -> None:\n",
    "        # word: -> [(doc_id, frequency)] \n",
    "        self.inverted_lists: dict[str: list[tuple[int, int]]] = {}\n",
    "        \n",
    "        self.names: list[str]= [] \n",
    "        self.q = q\n",
    "        self.padding = padding \n",
    "\n",
    "    def get_words(self, text: str) -> list[str]:\n",
    "        \"\"\"\n",
    "        >>> text = 'You are... awesome!'\n",
    "        >>> words = get_words(text)\n",
    "        >>> words\n",
    "        ['you', 'are', 'awesome']\n",
    "        \"\"\"\n",
    "        WORD_PATTERN = '[a-zA-Z]+'\n",
    "        return re.findall(WORD_PATTERN, str(text).lower())\n",
    "\n",
    "    def build_from_file(self, file_name: str) -> None:\n",
    "        # Interprete each line as a document.\n",
    "        df = pd.read_csv(file_name)\n",
    "        doc_id: int = 1\n",
    "        for _, row in df.iterrows():\n",
    "            row_data = {'title': row['title'],\n",
    "                        'date_x': row['date_x'],\n",
    "                        'score': row['score'], \n",
    "                        'genre': row['genre'], \n",
    "                        'overview': row['overview'],\n",
    "                        'crew': row['crew']\n",
    "                        }\n",
    "            # title, date, score, genre ,overview, crew = self.get_words(row_data['title']), row_data['date_x'], row_data['score'], self.get_words(row_data['genre']), self.get_words(row_data['overview']), self.get_words(row_data['crew'])\n",
    "            title = self.get_words(row_data['title'])\n",
    "            # for word in title + overview + genre + crew:\n",
    "            for word in title:\n",
    "                for qgram in compute_qgram(word, self.q, self.padding):\n",
    "                    if qgram not in self.inverted_lists:\n",
    "                        self.inverted_lists[qgram] = [(doc_id, 1)]\n",
    "                    else: \n",
    "                        if self.inverted_lists[qgram][-1][0] == doc_id: \n",
    "                            new_score = self.inverted_lists[qgram][-1][1] + 1\n",
    "                            self.inverted_lists[qgram][-1] = (doc_id, new_score)\n",
    "                        else:\n",
    "                            self.inverted_lists[qgram].append((doc_id, 1))\n",
    "            self.names.append(row['title'])\n",
    "            doc_id += 1\n",
    "\n",
    "    def intersect(self, query: str, threshold: int = 10) -> list:\n",
    "        query_qgrams = Counter(compute_qgram(query, self.q, self.padding))\n",
    "        inter = defaultdict(int)\n",
    "\n",
    "        for qgram, count in query_qgrams.items():\n",
    "            if qgram in self.inverted_lists:\n",
    "                for doc_id, freq in self.inverted_lists[qgram]:\n",
    "                    inter[doc_id] += min(count, freq)  # Zählt die Häufigkeit der Übereinstimmung\n",
    "        possible_matches = sorted(inter.items(), key=lambda x: x[1], reverse=True)\n",
    "        \n",
    "        matches:list = []\n",
    "        for doc_id, freq in possible_matches:\n",
    "            levenshtein = levenshtein_dist(query, self.names[doc_id-1])\n",
    "            if levenshtein < threshold:\n",
    "                matches.append((doc_id, freq))\n",
    "        return matches\n",
    "\n",
    "    def generate_output(self, query: str, output_threshold: int = 15) -> None:\n",
    "        query_res = self.intersect(query)\n",
    "        print(f'Query: {query}')\n",
    "        for i, (doc_id, freq) in enumerate(query_res):\n",
    "            print(f\"Title: {self.names[doc_id-1]}\\t Match: {freq}\")\n",
    "            # print(self.names[doc_id-1])\n",
    "            if i > output_threshold:\n",
    "                break\n"
   ]
  },
  {
   "cell_type": "markdown",
   "metadata": {},
   "source": [
    "### Query: ion man\n",
    "#### Wanted: iron man"
   ]
  },
  {
   "cell_type": "code",
   "execution_count": 324,
   "metadata": {},
   "outputs": [
    {
     "name": "stdout",
     "output_type": "stream",
     "text": [
      "Query: ion man\n",
      "Title: Irrational Man\t Match: 5\n",
      "Title: Iron Man 2\t Match: 4\n",
      "Title: Iron Man 3\t Match: 4\n",
      "Title: Iron Man\t Match: 4\n",
      "Title: The Irishman\t Match: 4\n",
      "Title: Indecent Woman\t Match: 4\n",
      "Title: Ip Man 3\t Match: 4\n",
      "Title: Inside Man\t Match: 4\n",
      "Title: Superman II\t Match: 4\n",
      "Title: The Iceman\t Match: 4\n",
      "Title: Superman III\t Match: 4\n",
      "Title: Inhuman Kiss\t Match: 4\n"
     ]
    }
   ],
   "source": [
    "SearchEngine = QGramIndex(q=3, padding=2)\n",
    "SearchEngine.build_from_file('movies.csv')\n",
    "SearchEngine.generate_output('ion man', output_threshold=10)"
   ]
  },
  {
   "cell_type": "markdown",
   "metadata": {},
   "source": [
    "### Query: arangers\n",
    "#### Wanted: powerrangers"
   ]
  },
  {
   "cell_type": "code",
   "execution_count": 325,
   "metadata": {},
   "outputs": [
    {
     "name": "stdout",
     "output_type": "stream",
     "text": [
      "Query: stsar was\n",
      "Title: The Strays\t Match: 3\n",
      "Title: San Andreas\t Match: 3\n",
      "Title: Star Wars\t Match: 3\n",
      "Title: Strays\t Match: 3\n",
      "Title: Storks\t Match: 3\n",
      "Title: Sarah's Key\t Match: 3\n",
      "Title: Shottas\t Match: 3\n",
      "Title: Street Kings\t Match: 3\n",
      "Title: Stasis\t Match: 3\n",
      "Title: Status Update\t Match: 3\n",
      "Title: 100 Streets\t Match: 3\n",
      "Title: Straw Dogs\t Match: 3\n",
      "Title: Strange Days\t Match: 3\n",
      "Title: Stripes\t Match: 3\n",
      "Title: St. Trinian's\t Match: 3\n",
      "Title: Stitches\t Match: 3\n",
      "Title: Stand Up Guys\t Match: 3\n"
     ]
    }
   ],
   "source": [
    "SearchEngine.generate_output('arangers')"
   ]
  }
 ],
 "metadata": {
  "kernelspec": {
   "display_name": "Python 3",
   "language": "python",
   "name": "python3"
  },
  "language_info": {
   "codemirror_mode": {
    "name": "ipython",
    "version": 3
   },
   "file_extension": ".py",
   "mimetype": "text/x-python",
   "name": "python",
   "nbconvert_exporter": "python",
   "pygments_lexer": "ipython3",
   "version": "3.11.8"
  }
 },
 "nbformat": 4,
 "nbformat_minor": 2
}
