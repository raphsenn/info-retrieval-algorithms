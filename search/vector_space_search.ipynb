{
 "cells": [
  {
   "cell_type": "markdown",
   "metadata": {},
   "source": [
    "# Vector space model"
   ]
  },
  {
   "cell_type": "code",
   "execution_count": 1,
   "metadata": {},
   "outputs": [
    {
     "data": {
      "text/html": [
       "<div>\n",
       "<style scoped>\n",
       "    .dataframe tbody tr th:only-of-type {\n",
       "        vertical-align: middle;\n",
       "    }\n",
       "\n",
       "    .dataframe tbody tr th {\n",
       "        vertical-align: top;\n",
       "    }\n",
       "\n",
       "    .dataframe thead th {\n",
       "        text-align: right;\n",
       "    }\n",
       "</style>\n",
       "<table border=\"1\" class=\"dataframe\">\n",
       "  <thead>\n",
       "    <tr style=\"text-align: right;\">\n",
       "      <th></th>\n",
       "      <th>title</th>\n",
       "      <th>date_x</th>\n",
       "      <th>score</th>\n",
       "      <th>genre</th>\n",
       "      <th>overview</th>\n",
       "      <th>crew</th>\n",
       "      <th>orig_title</th>\n",
       "      <th>status</th>\n",
       "      <th>orig_lang</th>\n",
       "      <th>budget_x</th>\n",
       "      <th>revenue</th>\n",
       "      <th>country</th>\n",
       "    </tr>\n",
       "  </thead>\n",
       "  <tbody>\n",
       "    <tr>\n",
       "      <th>0</th>\n",
       "      <td>Creed III</td>\n",
       "      <td>03/02/2023</td>\n",
       "      <td>73.0</td>\n",
       "      <td>Drama, Action</td>\n",
       "      <td>After dominating the boxing world, Adonis Cree...</td>\n",
       "      <td>Michael B. Jordan, Adonis Creed, Tessa Thompso...</td>\n",
       "      <td>Creed III</td>\n",
       "      <td>Released</td>\n",
       "      <td>English</td>\n",
       "      <td>75000000.0</td>\n",
       "      <td>2.716167e+08</td>\n",
       "      <td>AU</td>\n",
       "    </tr>\n",
       "    <tr>\n",
       "      <th>1</th>\n",
       "      <td>Avatar: The Way of Water</td>\n",
       "      <td>12/15/2022</td>\n",
       "      <td>78.0</td>\n",
       "      <td>Science Fiction, Adventure, Action</td>\n",
       "      <td>Set more than a decade after the events of the...</td>\n",
       "      <td>Sam Worthington, Jake Sully, Zoe Saldaña, Neyt...</td>\n",
       "      <td>Avatar: The Way of Water</td>\n",
       "      <td>Released</td>\n",
       "      <td>English</td>\n",
       "      <td>460000000.0</td>\n",
       "      <td>2.316795e+09</td>\n",
       "      <td>AU</td>\n",
       "    </tr>\n",
       "    <tr>\n",
       "      <th>2</th>\n",
       "      <td>The Super Mario Bros. Movie</td>\n",
       "      <td>04/05/2023</td>\n",
       "      <td>76.0</td>\n",
       "      <td>Animation, Adventure, Family, Fantasy, Comedy</td>\n",
       "      <td>While working underground to fix a water main,...</td>\n",
       "      <td>Chris Pratt, Mario (voice), Anya Taylor-Joy, P...</td>\n",
       "      <td>The Super Mario Bros. Movie</td>\n",
       "      <td>Released</td>\n",
       "      <td>English</td>\n",
       "      <td>100000000.0</td>\n",
       "      <td>7.244590e+08</td>\n",
       "      <td>AU</td>\n",
       "    </tr>\n",
       "    <tr>\n",
       "      <th>3</th>\n",
       "      <td>Mummies</td>\n",
       "      <td>01/05/2023</td>\n",
       "      <td>70.0</td>\n",
       "      <td>Animation, Comedy, Family, Adventure, Fantasy</td>\n",
       "      <td>Through a series of unfortunate events, three ...</td>\n",
       "      <td>Óscar Barberán, Thut (voice), Ana Esther Albor...</td>\n",
       "      <td>Momias</td>\n",
       "      <td>Released</td>\n",
       "      <td>Spanish, Castilian</td>\n",
       "      <td>12300000.0</td>\n",
       "      <td>3.420000e+07</td>\n",
       "      <td>AU</td>\n",
       "    </tr>\n",
       "    <tr>\n",
       "      <th>4</th>\n",
       "      <td>Supercell</td>\n",
       "      <td>03/17/2023</td>\n",
       "      <td>61.0</td>\n",
       "      <td>Action</td>\n",
       "      <td>Good-hearted teenager William always lived in ...</td>\n",
       "      <td>Skeet Ulrich, Roy Cameron, Anne Heche, Dr Quin...</td>\n",
       "      <td>Supercell</td>\n",
       "      <td>Released</td>\n",
       "      <td>English</td>\n",
       "      <td>77000000.0</td>\n",
       "      <td>3.409420e+08</td>\n",
       "      <td>US</td>\n",
       "    </tr>\n",
       "  </tbody>\n",
       "</table>\n",
       "</div>"
      ],
      "text/plain": [
       "                         title       date_x  score  \\\n",
       "0                    Creed III  03/02/2023    73.0   \n",
       "1     Avatar: The Way of Water  12/15/2022    78.0   \n",
       "2  The Super Mario Bros. Movie  04/05/2023    76.0   \n",
       "3                      Mummies  01/05/2023    70.0   \n",
       "4                    Supercell  03/17/2023    61.0   \n",
       "\n",
       "                                           genre  \\\n",
       "0                                  Drama, Action   \n",
       "1             Science Fiction, Adventure, Action   \n",
       "2  Animation, Adventure, Family, Fantasy, Comedy   \n",
       "3  Animation, Comedy, Family, Adventure, Fantasy   \n",
       "4                                         Action   \n",
       "\n",
       "                                            overview  \\\n",
       "0  After dominating the boxing world, Adonis Cree...   \n",
       "1  Set more than a decade after the events of the...   \n",
       "2  While working underground to fix a water main,...   \n",
       "3  Through a series of unfortunate events, three ...   \n",
       "4  Good-hearted teenager William always lived in ...   \n",
       "\n",
       "                                                crew  \\\n",
       "0  Michael B. Jordan, Adonis Creed, Tessa Thompso...   \n",
       "1  Sam Worthington, Jake Sully, Zoe Saldaña, Neyt...   \n",
       "2  Chris Pratt, Mario (voice), Anya Taylor-Joy, P...   \n",
       "3  Óscar Barberán, Thut (voice), Ana Esther Albor...   \n",
       "4  Skeet Ulrich, Roy Cameron, Anne Heche, Dr Quin...   \n",
       "\n",
       "                    orig_title     status            orig_lang     budget_x  \\\n",
       "0                    Creed III   Released              English   75000000.0   \n",
       "1     Avatar: The Way of Water   Released              English  460000000.0   \n",
       "2  The Super Mario Bros. Movie   Released              English  100000000.0   \n",
       "3                       Momias   Released   Spanish, Castilian   12300000.0   \n",
       "4                    Supercell   Released              English   77000000.0   \n",
       "\n",
       "        revenue country  \n",
       "0  2.716167e+08      AU  \n",
       "1  2.316795e+09      AU  \n",
       "2  7.244590e+08      AU  \n",
       "3  3.420000e+07      AU  \n",
       "4  3.409420e+08      US  "
      ]
     },
     "execution_count": 1,
     "metadata": {},
     "output_type": "execute_result"
    }
   ],
   "source": [
    "import numpy as np\n",
    "import pandas as pd\n",
    "import re\n",
    "\n",
    "cities = pd.read_csv('movies.csv')\n",
    "cities.head()"
   ]
  },
  {
   "cell_type": "markdown",
   "metadata": {},
   "source": [
    "## Vector space inverted index search"
   ]
  },
  {
   "cell_type": "code",
   "execution_count": 4,
   "metadata": {},
   "outputs": [],
   "source": [
    "from scipy.sparse import coo_matrix\n",
    "\n",
    "class InvertedIndex:\n",
    "    def __init__(self) -> None:\n",
    "        self.inverted_lists_: dict[str, list[tuple[int, float]]] = {}\n",
    "        self.td_matrix_ = None\n",
    "        self.td_sparse_matrix_ = None \n",
    "        self.vocab: dict[str, int] = {}\n",
    "\n",
    "        self.doc_ids_: list[int] = []\n",
    "        self.movie_titles_: list[str] = []\n",
    "\n",
    "    def tokenize(self, text: str) -> list[str]:\n",
    "        return re.findall(r\"[A-Za-z]+\", str(text).lower())\n",
    "    \n",
    "    def build_from_file(self, file: str) -> None:\n",
    "        df = pd.read_csv(file)\n",
    "        doc_id: int = 1\n",
    "        for _, row in df.iterrows():\n",
    "            title, genre ,overview, crew = self.tokenize(row['title']), self.tokenize(row['genre']), self.tokenize(row['overview']), self.tokenize(row['crew'])\n",
    "            for word in title + overview + crew + genre:\n",
    "                if word not in self.inverted_lists_:\n",
    "                    self.inverted_lists_[word] = [(doc_id, 1)]\n",
    "                    self.vocab[word] = len(self.inverted_lists_) - 1\n",
    "                else:\n",
    "                    if self.inverted_lists_[word][-1][0] != doc_id:\n",
    "                        self.inverted_lists_[word].append((doc_id, 1))\n",
    "                    else:\n",
    "                        new_score = self.inverted_lists_[word][-1][1] + 1\n",
    "                        self.inverted_lists_[word].append((doc_id, new_score))\n",
    "            self.doc_ids_.append(doc_id)\n",
    "            self.movie_titles_.append(row['title'])\n",
    "            doc_id += 1\n",
    "\n",
    "        # Time for linear algebra!\n",
    "        # Build td matrix.\n",
    "        self.td_matrix_ = np.zeros((len(self.inverted_lists_), len(self.doc_ids_))) # num_unique_words x num_documents\n",
    "        for row, word in enumerate(self.inverted_lists_):\n",
    "            for doc_id, tf in self.inverted_lists_[word]:\n",
    "                self.td_matrix_[row][doc_id-1] = tf\n",
    "\n",
    "        self.td_sparse_matrix_ = coo_matrix(self.td_matrix_)\n",
    "\n",
    "    def process_query(self, query: str) -> list[tuple[int, int]]:\n",
    "        query_words = self.tokenize(query)\n",
    "        query_vector = np.zeros(len(self.inverted_lists_))\n",
    "        \n",
    "        for word in query_words:\n",
    "            if word in self.inverted_lists_:\n",
    "                query_vector[self.vocab[word]] += 1\n",
    "        # Sparse matrix for fast computation. \n",
    "        query_scores = query_vector.T @ self.td_sparse_matrix_\n",
    "        # Slow variant. \n",
    "        # query_scores = query_vector.T @ self.td_matrix_\n",
    "        results = list(sorted([(i+1, score) for i, score in enumerate(query_scores)], key=lambda x: x[1], reverse=True))\n",
    "        return results\n",
    "\n",
    "    def generate_output(self, query: str, print_threshold: int = 10) -> None:\n",
    "        results = self.process_query(query)\n",
    "        print(f\"Query: {query}\") \n",
    "        for i, (doc_id, score) in enumerate(results):\n",
    "            print(f\"{self.movie_titles_[doc_id-1]}\")\n",
    "            if i > print_threshold:\n",
    "                break"
   ]
  },
  {
   "cell_type": "markdown",
   "metadata": {},
   "source": [
    "### Sparse matrix for fast computation"
   ]
  },
  {
   "cell_type": "code",
   "execution_count": 5,
   "metadata": {},
   "outputs": [
    {
     "name": "stdout",
     "output_type": "stream",
     "text": [
      "[[5. 0. 0. ... 0. 0. 0.]\n",
      " [1. 0. 0. ... 0. 0. 0.]\n",
      " [2. 1. 0. ... 0. 0. 0.]\n",
      " ...\n",
      " [0. 0. 0. ... 0. 1. 0.]\n",
      " [0. 0. 0. ... 0. 1. 0.]\n",
      " [0. 0. 0. ... 0. 0. 1.]]\n",
      "  (0, 0)\t5.0\n",
      "  (0, 114)\t3.0\n",
      "  (0, 115)\t3.0\n",
      "  (0, 774)\t1.0\n",
      "  (0, 1030)\t1.0\n",
      "  (0, 1380)\t2.0\n",
      "  (0, 1555)\t3.0\n",
      "  (0, 2083)\t1.0\n",
      "  (0, 2996)\t5.0\n",
      "  (0, 2997)\t5.0\n",
      "  (0, 3073)\t1.0\n",
      "  (0, 3096)\t1.0\n",
      "  (0, 4103)\t6.0\n",
      "  (0, 4104)\t6.0\n",
      "  (0, 5709)\t2.0\n",
      "  (0, 6723)\t3.0\n",
      "  (0, 7478)\t1.0\n",
      "  (0, 8097)\t1.0\n",
      "  (0, 8322)\t2.0\n",
      "  (0, 8428)\t2.0\n",
      "  (1, 0)\t1.0\n",
      "  (1, 26)\t1.0\n",
      "  (1, 165)\t2.0\n",
      "  (1, 277)\t1.0\n",
      "  (1, 430)\t1.0\n",
      "  :\t:\n",
      "  (70422, 10168)\t1.0\n",
      "  (70423, 10169)\t1.0\n",
      "  (70424, 10169)\t1.0\n",
      "  (70425, 10169)\t1.0\n",
      "  (70426, 10170)\t2.0\n",
      "  (70427, 10170)\t1.0\n",
      "  (70428, 10170)\t1.0\n",
      "  (70429, 10171)\t1.0\n",
      "  (70430, 10172)\t1.0\n",
      "  (70431, 10172)\t1.0\n",
      "  (70432, 10172)\t1.0\n",
      "  (70433, 10172)\t1.0\n",
      "  (70434, 10172)\t1.0\n",
      "  (70435, 10172)\t1.0\n",
      "  (70436, 10172)\t2.0\n",
      "  (70437, 10172)\t1.0\n",
      "  (70438, 10174)\t1.0\n",
      "  (70439, 10174)\t1.0\n",
      "  (70440, 10174)\t1.0\n",
      "  (70441, 10175)\t1.0\n",
      "  (70442, 10175)\t1.0\n",
      "  (70443, 10176)\t2.0\n",
      "  (70444, 10176)\t1.0\n",
      "  (70445, 10176)\t1.0\n",
      "  (70446, 10177)\t1.0\n"
     ]
    }
   ],
   "source": [
    "SearchEngine = InvertedIndex()\n",
    "SearchEngine.build_from_file('movies.csv')\n",
    "print(SearchEngine.td_matrix_)\n",
    "print(SearchEngine.td_sparse_matrix_)"
   ]
  },
  {
   "cell_type": "markdown",
   "metadata": {},
   "source": [
    "### Query: Iron Man"
   ]
  },
  {
   "cell_type": "code",
   "execution_count": 6,
   "metadata": {},
   "outputs": [
    {
     "name": "stdout",
     "output_type": "stream",
     "text": [
      "Query: iron man\n",
      "Iron Man & Captain America: Heroes United\n",
      "Iron Man & Hulk: Heroes United\n",
      "Iron Man 2\n",
      "Life of Brian\n",
      "Iron Man: Rise of Technovore\n",
      "Spider-Man: Across the Spider-Verse\n",
      "Spider-Man: Homecoming\n",
      "Iron Man 3\n",
      "Iron Man\n",
      "Raped by an Angel\n",
      "3-Iron\n",
      "LEGO Marvel Super Heroes: Avengers Reassembled!\n"
     ]
    }
   ],
   "source": [
    "SearchEngine.generate_output('iron man')"
   ]
  },
  {
   "cell_type": "markdown",
   "metadata": {},
   "source": [
    "### Query: Action"
   ]
  },
  {
   "cell_type": "code",
   "execution_count": 7,
   "metadata": {},
   "outputs": [
    {
     "name": "stdout",
     "output_type": "stream",
     "text": [
      "Query: action\n",
      "Last Action Hero\n",
      "Bruce Lee: A Warrior's Journey\n",
      "Missing in Action 2: The Beginning\n",
      "Shazam! Fury of the Gods\n",
      "Die Hart\n",
      "Memory\n",
      "Avengers: Age of Ultron\n",
      "Incredibles 2\n",
      "Rambo\n",
      "The Action Pack Saves Christmas\n",
      "Rush Hour\n",
      "I Am Number Four\n"
     ]
    }
   ],
   "source": [
    "SearchEngine.generate_output('action')"
   ]
  },
  {
   "cell_type": "markdown",
   "metadata": {},
   "source": [
    "### Query: Love"
   ]
  },
  {
   "cell_type": "code",
   "execution_count": 8,
   "metadata": {},
   "outputs": [
    {
     "name": "stdout",
     "output_type": "stream",
     "text": [
      "Query: love\n",
      "Love Me, Love Me Not\n",
      "Please Enlighten Me\n",
      "The Moment You Fall in Love\n",
      "Urusei Yatsura: Always My Darling\n",
      "Billboard Dad\n",
      "Sweet Sex and Love\n",
      "Till We Meet Again\n",
      "Love Affair\n",
      "Endless Love\n",
      "AI Love You\n",
      "I've Always Liked You\n",
      "A Frozen Flower\n"
     ]
    }
   ],
   "source": [
    "SearchEngine.generate_output('love')"
   ]
  },
  {
   "cell_type": "markdown",
   "metadata": {},
   "source": [
    "### Query: Anime"
   ]
  },
  {
   "cell_type": "code",
   "execution_count": 9,
   "metadata": {},
   "outputs": [
    {
     "name": "stdout",
     "output_type": "stream",
     "text": [
      "Query: Anime\n",
      "Kimetsu Orchestra Concert\n",
      "The Animatrix\n",
      "Laid-Back Camp The Movie\n",
      "ODDTAXI in the Woods\n",
      "Dragon Ball: Yo! Son Goku and His Friends Return!!\n",
      "Death Note Relight 1: Visions of a God\n",
      "Halo Legends\n",
      "Naruto to Boruto: The Live 2019\n",
      "Evangelion: 1.0 You Are (Not) Alone\n",
      "Steins;Gate: The Movie - Load Region of Déjà Vu\n",
      "Phantom of the Kill: Zero's Rebellion\n",
      "Death Note Relight 2: L's Successors\n"
     ]
    }
   ],
   "source": [
    "SearchEngine.generate_output('Anime')"
   ]
  }
 ],
 "metadata": {
  "kernelspec": {
   "display_name": "Python 3",
   "language": "python",
   "name": "python3"
  },
  "language_info": {
   "codemirror_mode": {
    "name": "ipython",
    "version": 3
   },
   "file_extension": ".py",
   "mimetype": "text/x-python",
   "name": "python",
   "nbconvert_exporter": "python",
   "pygments_lexer": "ipython3",
   "version": "3.11.8"
  }
 },
 "nbformat": 4,
 "nbformat_minor": 2
}
