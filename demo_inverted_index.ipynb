{
 "cells": [
  {
   "cell_type": "code",
   "execution_count": 2,
   "metadata": {},
   "outputs": [],
   "source": [
    "from inverted_index import InvertedIndex\n",
    "\n",
    "\n",
    "SearchEngine = InvertedIndex()\n",
    "SearchEngine.build_from_file('movies.csv')\n"
   ]
  },
  {
   "cell_type": "code",
   "execution_count": 7,
   "metadata": {},
   "outputs": [
    {
     "name": "stdout",
     "output_type": "stream",
     "text": [
      "Query: Star Wars\n",
      "Doraemon: Nobita's Little Star Wars 2021\n",
      "Star Wars\n",
      "Star Wars: The Force Awakens\n",
      "Star Wars: The Rise of Skywalker\n",
      "Star Wars: The Last Jedi\n",
      "Solo: A Star Wars Story\n",
      "Rogue One: A Star Wars Story\n",
      "Star Wars: Episode III - Revenge of the Sith\n",
      "LEGO Star Wars Terrifying Tales\n",
      "Star Wars: Episode I - The Phantom Menace\n",
      "Star Wars: Episode II - Attack of the Clones\n",
      "Star Wars: The Clone Wars\n",
      "LEGO Star Wars Summer Vacation\n",
      "Maggie Simpson in The Force Awakens from Its Nap\n",
      "Empire of Dreams: The Story of the Star Wars Trilogy\n",
      "LEGO Star Wars Holiday Special\n",
      "The Star Wars Holiday Special\n"
     ]
    }
   ],
   "source": [
    "query = 'Star Wars'\n",
    "SearchEngine.generate_output(query)"
   ]
  },
  {
   "cell_type": "code",
   "execution_count": 16,
   "metadata": {},
   "outputs": [
    {
     "name": "stdout",
     "output_type": "stream",
     "text": [
      "Query: Tony Stark\n",
      "Avengers: Age of Ultron\n",
      "Iron Man 2\n",
      "Spider-Man: Homecoming\n",
      "Iron Man 3\n",
      "Iron Man\n"
     ]
    }
   ],
   "source": [
    "query = 'Tony Stark'\n",
    "SearchEngine.generate_output(query)"
   ]
  },
  {
   "cell_type": "code",
   "execution_count": 15,
   "metadata": {},
   "outputs": [
    {
     "name": "stdout",
     "output_type": "stream",
     "text": [
      "Query: Transformers\n",
      "Transformers: Rise of the Beasts\n",
      "Transformers: Age of Extinction\n",
      "Transformers: The Last Knight\n",
      "Transformers: Beginnings\n",
      "Meet the Spartans\n",
      "Transformers: Revenge of the Fallen\n",
      "Transformers\n",
      "Transformers: Dark of the Moon\n",
      "The Transformers: The Movie\n",
      "Transformers: Prime Beast Hunters: Predacons Rising\n"
     ]
    }
   ],
   "source": [
    "query = 'Transformers'\n",
    "SearchEngine.generate_output(query)"
   ]
  }
 ],
 "metadata": {
  "kernelspec": {
   "display_name": "Python 3",
   "language": "python",
   "name": "python3"
  },
  "language_info": {
   "codemirror_mode": {
    "name": "ipython",
    "version": 3
   },
   "file_extension": ".py",
   "mimetype": "text/x-python",
   "name": "python",
   "nbconvert_exporter": "python",
   "pygments_lexer": "ipython3",
   "version": "3.11.8"
  }
 },
 "nbformat": 4,
 "nbformat_minor": 2
}
